{
 "cells": [
  {
   "cell_type": "markdown",
   "metadata": {},
   "source": [
    "# 🐍 Python\n",
    "\n",
    "**Índice**\n",
    "\n",
    "1. [Saída de dados com f-string](#saída-de-dados-com-f-string)\n",
    "2. [Variáveis e Entrada de dados](#variáveis-e-entrada-de-dados)\n",
    "3. [Estrutura condicional](#estrutura-condicional)\n",
    "4. [Estrutura de repetição](#estrutura-de-repetição)\n",
    "5. [Lista, dicionários, tuplas e conjuntos](#lista-dicionários-tuplas-e-conjuntos)\n",
    "   1. [Lista](#lista)\n",
    "   2. [Dicionários](#dicionários)\n",
    "   3. [Tuplas](#tuplas)\n",
    "   4. [Conjuntos](#conjuntos)\n",
    "6. [String](#string)\n",
    "7. [Funções](#funções)\n",
    "   1. [Exceções](#exceções)\n",
    "   2. [Módulos](#módulos)\n",
    "8. [Arquivo](#arquivo)\n",
    "   1. [Diretório](#diretório)\n",
    "9. [Classes e Objetos](#classes-e-objetos)\n",
    "   1. [Objeto](#objeto)\n",
    "   2. [Passagem de paramêtro](#passagem-de-paramêtro)\n",
    "   3. [Herança](#herança)\n",
    "10. [Formatação de espaco em branco](#formatação-de-espaco-em-branco)\n",
    "11. [Defaultdict e Counter](#defaultdict-e-counter)\n",
    "12. [Teste Automatizados e Asserção](#teste-automatizados-e-asserção)\n",
    "13. [Iteráveis e Geradores](#iteráveis-e-geradores)\n",
    "14. [Zips e Descompactação de Argumento](#zips-e-descompactação-de-argumento)\n",
    "15. [Anotações de Tipo (Tipagem)](#anotações-de-tipo-tipagem)"
   ]
  },
  {
   "cell_type": "markdown",
   "metadata": {},
   "source": [
    "### Saída de dados com f-string\n",
    "---"
   ]
  },
  {
   "cell_type": "code",
   "execution_count": null,
   "metadata": {},
   "outputs": [],
   "source": [
    "# print\n",
    "a = \"mundo\"\n",
    "print(f\"Olá {a}\")"
   ]
  },
  {
   "cell_type": "code",
   "execution_count": null,
   "metadata": {},
   "outputs": [],
   "source": [
    "preço = 5.20\n",
    "print(f\"preço: {preço:10.2f}\")\n",
    "print(f\"preço: {preço:>10.2f}\")\n",
    "print(f\"preço: {preço:<10.2f}\")\n",
    "print(f\"preço: {preço:^10.2f}\")\n",
    "print(f\"preço: {preço:.^10.2f}\")\n",
    "print(f\"preço: {preço:x^10.2f}\")\n",
    "print(f\"preço: {preço:_^10.2f}\")\n",
    "print(f\"preço: {preço * 10 + 1 :5.2f}\")"
   ]
  },
  {
   "cell_type": "code",
   "execution_count": null,
   "metadata": {},
   "outputs": [],
   "source": [
    "# f-string\n",
    "x = 5.1\n",
    "print(f\"inteiro: {int(x)}\")"
   ]
  },
  {
   "cell_type": "code",
   "execution_count": null,
   "metadata": {},
   "outputs": [],
   "source": [
    "# Multilinhas\n",
    "print(f\"\"\"\n",
    "    O preço do novo produto é: {preço:5.2f}\n",
    "    calculos: {preço * 10 + 1 :5.2f}\n",
    "    inteiro: {int(x)}\n",
    "    \"\"\")"
   ]
  },
  {
   "cell_type": "markdown",
   "metadata": {},
   "source": [
    "### Variáveis e Entrada de dados\n",
    "---"
   ]
  },
  {
   "cell_type": "code",
   "execution_count": null,
   "metadata": {},
   "outputs": [],
   "source": [
    "# Operadores relacionais\n",
    "a = 1\n",
    "b = 5\n",
    "c = 2\n",
    "d = 1\n",
    "\n",
    "a == b \n",
    "a > d\n",
    "a < d\n",
    "c != c\n",
    "a >= b\n",
    "d <= a\n",
    "\n",
    "# Operadores Lógicos\n",
    "True and True\n",
    "False or True\n",
    "not True"
   ]
  },
  {
   "cell_type": "code",
   "execution_count": null,
   "metadata": {},
   "outputs": [],
   "source": [
    "# Expressões lógicas\n",
    "True or False and not True\n",
    "\n",
    "# Veracidade\n",
    "x = None \n",
    "False\n",
    "None\n",
    "[]\n",
    "{}\n",
    "\"\"\n",
    "set()\n",
    "0\n",
    "0.0\n",
    "\n",
    "## and\n",
    "safe_x = x or 0\n",
    "safe_x = x if x is not None else 0\n",
    "\n",
    "## all e any\n",
    "all([True, 1, {3}])\n",
    "all([True, 1, {}])\n",
    "any([True, 1, {}])\n",
    "any([])"
   ]
  },
  {
   "cell_type": "code",
   "execution_count": null,
   "metadata": {},
   "outputs": [],
   "source": [
    "# Entrada de dados e conversão \n",
    "anos = int(input(\"Anos de serviço: \"))\n",
    "valor_por_anos = float(input(f\"Valor por ano: \"))\n",
    "bonus = anos * valor_por_anos\n",
    "print(f\"Bonus: {bonus: 5.2f}\")"
   ]
  },
  {
   "cell_type": "markdown",
   "metadata": {},
   "source": [
    "### Estrutura condicional\n",
    "---"
   ]
  },
  {
   "cell_type": "code",
   "execution_count": null,
   "metadata": {},
   "outputs": [],
   "source": [
    "# if e else\n",
    "idade = int(input(\"Digite a idade de seu carro: \"))\n",
    "\n",
    "if idade <= 3:\n",
    "    print(f\"Seu carro é novo !\")\n",
    "else:\n",
    "    print(f\"Seu carro é velho !\")"
   ]
  },
  {
   "cell_type": "code",
   "execution_count": null,
   "metadata": {},
   "outputs": [],
   "source": [
    "# elif\n",
    "categoria = int(input(\"Digite a categoria do produto: \"))\n",
    "\n",
    "if categoria == 1:\n",
    "    preco = 10\n",
    "elif categoria == 2:\n",
    "    preco = 20\n",
    "elif categoria == 3:\n",
    "    preco = 30\n",
    "else:\n",
    "    print(f\"Categoria invalida, digite um valor entre 1 e 3 !\")\n",
    "    \n",
    "print(f\"Preco do produto {preco: 6.2f}\")"
   ]
  },
  {
   "cell_type": "code",
   "execution_count": null,
   "metadata": {},
   "outputs": [],
   "source": [
    "# Ternário\n",
    "par_ou_impar = \"par\" if x % 2 == 0 else \"impar\"\n",
    "\n",
    "x = 2\n",
    "print(par_ou_impar)"
   ]
  },
  {
   "cell_type": "markdown",
   "metadata": {},
   "source": [
    "### Estrutura de repetição\n",
    "---"
   ]
  },
  {
   "cell_type": "code",
   "execution_count": null,
   "metadata": {},
   "outputs": [],
   "source": [
    "# while\n",
    "ultimo = int(input(\"Digite o ultimo digito de contagem: \"))\n",
    "i = 0\n",
    "while i <= ultimo:\n",
    "    if i % 2 == 0:\n",
    "        print(i)\n",
    "    i += 1 \n",
    "\n",
    "##\n",
    "   \n",
    "n = 1\n",
    "soma = 0\n",
    "while n <= 10:\n",
    "    x = int(input(f\"Digite o {x} numero:\"))\n",
    "    soma += x \n",
    "    n += 1 \n",
    "print(f\"Soma = {soma}\")"
   ]
  },
  {
   "cell_type": "code",
   "execution_count": null,
   "metadata": {},
   "outputs": [],
   "source": [
    "# Break\n",
    "s = 0\n",
    "while True:\n",
    "    v = int(input(\"Digite um numero a somar ou 0 para sair:\"))\n",
    "    if v == 0:\n",
    "        break \n",
    "    s += v \n",
    "print(s)"
   ]
  },
  {
   "cell_type": "code",
   "execution_count": null,
   "metadata": {},
   "outputs": [],
   "source": [
    "# Continue\n",
    "i = 0 \n",
    "while i < 12:\n",
    "    i += 2\n",
    "    if i == 8:\n",
    "        continue \n",
    "    print(i)\n",
    "else:\n",
    "    print(f\"Os numeros pares de 2 a 12 foram exibidos, com excecao do 8\")"
   ]
  },
  {
   "cell_type": "code",
   "execution_count": null,
   "metadata": {},
   "outputs": [],
   "source": [
    "# While aninhados\n",
    "tabuada = 1\n",
    "while tabuada <= 10:\n",
    "    numero = 1\n",
    "    while numero <= 10:\n",
    "        print(f\"{tabuada} x {numero} = {tabuada * numero}\")\n",
    "        numero += 1\n",
    "    tabuada += 1"
   ]
  },
  {
   "cell_type": "markdown",
   "metadata": {},
   "source": [
    "### Lista, dicionários, tuplas e conjuntos\n",
    "---"
   ]
  },
  {
   "cell_type": "markdown",
   "metadata": {},
   "source": [
    "#### **Lista**"
   ]
  },
  {
   "cell_type": "code",
   "execution_count": null,
   "metadata": {},
   "outputs": [],
   "source": [
    "# Tipos\n",
    "integer_list = [1, 2, 3]\n",
    "heterogeneous_list = [\"string\", 0.1, True]\n",
    "list_of_list = [integer_list, heterogeneous_list, []]"
   ]
  },
  {
   "cell_type": "code",
   "execution_count": null,
   "metadata": {},
   "outputs": [],
   "source": [
    "l1 = []\n",
    "l2 = [0, 1, 2, 3, 4, 5]\n",
    "\n",
    "# Fatiamento\n",
    "print(l2[2])\n",
    "print(l2[0:5])\n",
    "print(l2[:4])\n",
    "print(l2[1:3])\n",
    "print(l2[-1])\n",
    "print(l2[1:-1])\n",
    "\n",
    "# Cópia\n",
    "print(l2[:])    \n",
    "\n",
    "# stride\n",
    "print(l2[::2])\n",
    "print(l2[5:2:-1])\n",
    "\n",
    "# Tamanho \n",
    "len(l2)\n",
    "\n",
    "# Adicao \n",
    "## append\n",
    "l2.append(\"x\")\n",
    "print(l2)\n",
    "\n",
    "l2 = l2 + [1]\n",
    "l2 = l2 + [6, 7, 8]\n",
    "print(l2)\n",
    "\n",
    "## extend\n",
    "l2.extend(\"y\")\n",
    "l2.extend([20, 30, 40])\n",
    "print(l2)\n",
    "\n",
    "## insert\n",
    "l2.insert(3, \"z\") \n",
    "print(l2)\n",
    "\n",
    "# Removendo\n",
    "## del\n",
    "del l2[0]\n",
    "print(l2)\n",
    "\n",
    "## pop\n",
    "l2.pop(2)\n",
    "print(l2)\n",
    "\n",
    "## remove\n",
    "l2.remove(1)\n",
    "print(l2)\n",
    "\n",
    "# Verificaicao\n",
    "1 in l2     # True\n",
    "20 in l2    # False"
   ]
  },
  {
   "cell_type": "code",
   "execution_count": null,
   "metadata": {},
   "outputs": [],
   "source": [
    "# Pesquisa \n",
    "z = [\"a\", \"b\", \"c\", \"d\"]\n",
    "letra = str(input(\"Digite a letra: \"))\n",
    "\n",
    "## while (sequencial)\n",
    "while x < len(z):\n",
    "    if z[x] == letra:\n",
    "        print(\"achou\")\n",
    "        break\n",
    "    x += 1\n",
    "else:\n",
    "    print(\"nao achou\")\n",
    "\n",
    "## for (um a um)\n",
    "for x in z:\n",
    "    if x == letra:\n",
    "        print(\"achou\")\n",
    "        break\n",
    "    else:\n",
    "        print(\"nao achou\")\n",
    "\n",
    "## range\n",
    "for i in range(len(z)):\n",
    "    if z[i] == letra:\n",
    "        print(\"achou\")\n",
    "        break\n",
    "    else:\n",
    "        print(\"nao achou\")"
   ]
  },
  {
   "cell_type": "code",
   "execution_count": null,
   "metadata": {},
   "outputs": [],
   "source": [
    "# Lista Aninhadas\n",
    "la = [4, [2, 3], [1, [3, 4]]]\n",
    "\n",
    "print(la[2][1])\n",
    "print(la[2][1][0])\n",
    "\n",
    "## matriz\n",
    "a = [[1,2,3],\n",
    "     [4,5,6],\n",
    "     [7,8,9]]\n",
    "\n",
    "print(a)\n",
    "print(a[0])\n",
    "print(a[0][1])\n",
    "a[1][2] = 50\n",
    "print(a)\n",
    "\n",
    "for i in range(len(a)):            \n",
    "     for j in range(len(a[i])):    \n",
    "        print(a[i][j], end=\" \")    \n",
    "     print()                       \n"
   ]
  },
  {
   "cell_type": "code",
   "execution_count": null,
   "metadata": {},
   "outputs": [],
   "source": [
    "# classificacao\n",
    "x = [4, 1 , 2, 3]\n",
    "y = sorted(x)       \n",
    "x.sort()            \n",
    "\n",
    "##\n",
    "\n",
    "x = sorted([-4, 1, -2, 3], keys=abs, reverse=True)  \n",
    "\n",
    "##\n",
    "\n",
    "wc = sorted(word_counts.items(),\n",
    "            key= lambda word_and_count: word_and_count[1],\n",
    "            reverse=True)"
   ]
  },
  {
   "cell_type": "code",
   "execution_count": null,
   "metadata": {},
   "outputs": [],
   "source": [
    "# Compreensoes de listas\n",
    "l1 = [x for x in range(5) if x % 2 == 0]    # [0, 2, 4]\n",
    "l2 = [x * x for x in range(5)]              # [0, 1, 4, 9, 16]\n",
    "l3 = [x * x for x in l1 ]                   # [0, 4, 16]\n",
    "\n",
    "## transformar lista em dicionarios ou conjuntos\n",
    "l_dict = {x: x * x for x in range(5)}  \n",
    "l_set = {x * x for x in [1, -1]}       \n",
    "\n",
    "## sem valor da lista\n",
    "zeros = [0 for _ in l1]\n",
    "\n",
    "## multiplos fors\n",
    "pairs =[(x, y)\n",
    "        for x in range(10)\n",
    "        for y in range(x + 1, 10)]"
   ]
  },
  {
   "cell_type": "markdown",
   "metadata": {},
   "source": [
    "#### **Dicionários**"
   ]
  },
  {
   "cell_type": "code",
   "execution_count": null,
   "metadata": {},
   "outputs": [],
   "source": [
    "# Tipos\n",
    "empty_dict = {}\n",
    "estoque = {\n",
    "    \"tomate\" : [1000, 2.30],\n",
    "    \"alface\" : [500, 0,45],\n",
    "    \"batata\" : [2001, 1.20]\n",
    "}\n",
    "dict = { \n",
    "    \"nome\" : \"Fulano\",\n",
    "    5 : \"cinco\",\n",
    "    \"lista\" : [1, 2, 4]\n",
    "}\n"
   ]
  },
  {
   "cell_type": "code",
   "execution_count": null,
   "metadata": {},
   "outputs": [],
   "source": [
    "# Pesquisa\n",
    "dict[\"nome\"]\n",
    "\n",
    "# Atribuiçao\n",
    "dict[5] = \"four\" \n",
    "\n",
    "# Remoção\n",
    "del dict[\"lista\"]   \n",
    "\n",
    "# Verificação\n",
    "print(5 in dict)  \n",
    "  \n",
    "## keys\n",
    "print(dict.keys()) \n",
    "\n",
    "## values     \n",
    "print(dict.values())    \n",
    "\n",
    "## items\n",
    "print(dict.items())     \n",
    "\n",
    "# Retornando todas as chaves em tupla\n",
    "for chave, valor in dict.items():\n",
    "    print(chave)\n",
    "\n",
    "# get\n",
    "l2.get(\"nome\", 0)"
   ]
  },
  {
   "cell_type": "markdown",
   "metadata": {},
   "source": [
    "#### **Tuplas**"
   ]
  },
  {
   "cell_type": "code",
   "execution_count": null,
   "metadata": {},
   "outputs": [],
   "source": [
    "# Tipo\n",
    "tupla = \"a\", \"b\", \"c\"\n",
    "tupla = (\"a\", \"b\", \"c\") \n",
    "\n",
    "print(tupla)\n",
    "print(tupla[1])"
   ]
  },
  {
   "cell_type": "code",
   "execution_count": null,
   "metadata": {},
   "outputs": [],
   "source": [
    "# Retornar multiplos valores\n",
    "def sum_and_product(x, y):\n",
    "    return (x + y), (x * y)\n",
    "\n",
    "sp = sum_and_product(2, 3)      \n",
    "s, p = sum_and_product(5, 10)   "
   ]
  },
  {
   "cell_type": "code",
   "execution_count": null,
   "metadata": {},
   "outputs": [],
   "source": [
    "# Atribuições simples\n",
    "x, y = 1, 2     \n",
    "x, y = y, 2     "
   ]
  },
  {
   "cell_type": "markdown",
   "metadata": {},
   "source": [
    "#### **Conjuntos**"
   ]
  },
  {
   "cell_type": "code",
   "execution_count": null,
   "metadata": {},
   "outputs": [],
   "source": [
    "# set\n",
    "a = set()\n",
    "a.add(1)\n",
    "a.add(2)\n",
    "a.add(3)\n",
    "print(a)\n",
    "a.add(1)\n",
    "print(a)\n",
    "a.add(0)\n",
    "a.add(-1)\n",
    "print(a)\n",
    "\n",
    "##\n",
    "\n",
    "b = set([2, 3])\n",
    "print(b)\n",
    "len(b)\n",
    "2 in b"
   ]
  },
  {
   "cell_type": "code",
   "execution_count": null,
   "metadata": {},
   "outputs": [],
   "source": [
    "item_list = [1, 2, 3, 1, 2, 3]\n",
    "num_items = len(item_list)         \n",
    "item_set = set(item_list)           \n",
    "num_disctinct_items = len(item_set) \n",
    "distinct_item_list = list(item_set)"
   ]
  },
  {
   "cell_type": "markdown",
   "metadata": {},
   "source": [
    "### String\n",
    "---"
   ]
  },
  {
   "cell_type": "code",
   "execution_count": null,
   "metadata": {},
   "outputs": [],
   "source": [
    "# Strings literais\n",
    "a = 'one way of writing a string'\n",
    "b = \"another way\"\n",
    "\n",
    "# Multilinhas\n",
    "c = \"\"\"\n",
    "This is a longer string that\n",
    "spans multiple lens\n",
    "\"\"\""
   ]
  },
  {
   "cell_type": "code",
   "execution_count": null,
   "metadata": {},
   "outputs": [],
   "source": [
    "# Tratar como sequencia de lista ou tuplas\n",
    "l = list(\"Alo mundo\")\n",
    "l[0] = \"a\"\n",
    "print(l)\n",
    "\n",
    "# Junta os caracteres\n",
    "s = \"\".join(l)\n",
    "print(s)"
   ]
  },
  {
   "cell_type": "code",
   "execution_count": null,
   "metadata": {},
   "outputs": [],
   "source": [
    "s = \"O rato roeu a roupa do Rei de Roma\"\n",
    "\n",
    "# lower\n",
    "s.lower()\n",
    "\n",
    "# upper\n",
    "s.upper()\n",
    "\n",
    "# in ou not in \n",
    "\"rato\" in s.lower()\n"
   ]
  },
  {
   "cell_type": "code",
   "execution_count": null,
   "metadata": {},
   "outputs": [],
   "source": [
    "t = \"Um tigre, dois trigres, tres tigres\"\n",
    "\n",
    "# Contagem\n",
    "t.count(\"tigre\")\n",
    "t.count(\"t\")\n",
    "\n",
    "# Pesquisa\n",
    "t.find(\"tig\")\n",
    "t.rfind(\"e\")\n",
    "\n",
    "# split\n",
    "s.split(\" \")\n",
    "\n",
    "# replace\n",
    "s.replace(\"tigre\", \"gato\")\n",
    "\n",
    "# remocao de espaco branco\n",
    "t.strip()\n",
    "t.rstrip()\n",
    "t.lstrip()"
   ]
  },
  {
   "cell_type": "code",
   "execution_count": null,
   "metadata": {},
   "outputs": [],
   "source": [
    "s = \"125\"\n",
    "p = \"alo mundo\"\n",
    "\n",
    "# Validacao\n",
    "p.isalnum()\n",
    "s.isaplha()\n",
    "p.isupper()\n",
    "p.islower()\n",
    "\n",
    "# Formatacao f-string\n",
    "f_string = f\"s= {s}, p={p}\""
   ]
  },
  {
   "cell_type": "code",
   "execution_count": null,
   "metadata": {},
   "outputs": [],
   "source": [
    "# Concatenação\n",
    "nome = \"Vitor\"\n",
    "sobrenome = \"Lemes\"\n",
    "\n",
    "nome + \"Augsuto\"\n",
    "nome + \"Augusto\" + sobrenome"
   ]
  },
  {
   "cell_type": "markdown",
   "metadata": {},
   "source": [
    "### Funções\n",
    "---"
   ]
  },
  {
   "cell_type": "code",
   "execution_count": null,
   "metadata": {},
   "outputs": [],
   "source": [
    "# def\n",
    "def soma(a, b):\n",
    "    print(a + b)\n",
    "soma(2, 5)\n",
    "\n",
    "# return\n",
    "def soma(a, b):\n",
    "    return a + b\n",
    "print(soma(2, 5))"
   ]
  },
  {
   "cell_type": "code",
   "execution_count": null,
   "metadata": {},
   "outputs": [],
   "source": [
    "# if e else\n",
    "def épar(x):\n",
    "    return x % 2 == 0\n",
    "\n",
    "def par_ou_impar(x):\n",
    "    if épar(x):\n",
    "        return \"par\"\n",
    "    else:\n",
    "        return \"impar\"\n",
    "\n",
    "print(par_ou_impar(4))\n",
    "print(par_ou_impar(5))"
   ]
  },
  {
   "cell_type": "code",
   "execution_count": null,
   "metadata": {},
   "outputs": [],
   "source": [
    "# Recursividade\n",
    "def fatorial(n):\n",
    "    if n == 0 or n == 1:\n",
    "        return 1\n",
    "    else:\n",
    "        return n * fatorial(n-1)\n",
    "\n",
    "##\n",
    "\n",
    "def fibonacci(n):\n",
    "    if n <= 1:\n",
    "        return n\n",
    "    else:\n",
    "        return fibonacci(n-1) + fibonacci(n-2)"
   ]
  },
  {
   "cell_type": "code",
   "execution_count": null,
   "metadata": {},
   "outputs": [],
   "source": [
    "# lambda\n",
    "aumento = lambda a, b: (a*b/100)\n",
    "aumento(100, 50)\n",
    "\n",
    "##\n",
    "\n",
    "def apply_to_one(f):\n",
    "    return f(1)\n",
    "\n",
    "y = apply_to_one(lambda x: x + 4)"
   ]
  },
  {
   "cell_type": "code",
   "execution_count": null,
   "metadata": {},
   "outputs": [],
   "source": [
    "# Parametros recebendo argumentos\n",
    "def my_print(message = \"my default message\"):\n",
    "    print(message)\n",
    "\n",
    "my_print(\"hello\")  \n",
    "my_print()         "
   ]
  },
  {
   "cell_type": "markdown",
   "metadata": {},
   "source": [
    "#### **Exceções**"
   ]
  },
  {
   "cell_type": "code",
   "execution_count": null,
   "metadata": {},
   "outputs": [],
   "source": [
    "# try e except\n",
    "nomes = [\"Ana\", \"Carlos\", \"Maria\"]\n",
    "for tentativa in range(3):\n",
    "    try:\n",
    "        i = int(input(\"Digite o indice que quer imprimir: \"))\n",
    "        print(nomes[i])\n",
    "    except Exception as e:\n",
    "        print(f\"Algo deu errado: {e}\")"
   ]
  },
  {
   "cell_type": "markdown",
   "metadata": {},
   "source": [
    "#### **Módulos**"
   ]
  },
  {
   "cell_type": "code",
   "execution_count": null,
   "metadata": {},
   "outputs": [],
   "source": [
    "# entrada.py\n",
    "def valida_inteiro(mensagem, minimo, maximo):\n",
    "    while True:\n",
    "        try:\n",
    "            v = int(input(mensagem))\n",
    "            if v >= minimo and v <= maximo:\n",
    "                return v\n",
    "            else:\n",
    "                print(f\"Digite um valor entre {minimo} e {maximo}\")\n",
    "        except ValueError:\n",
    "            print(\"Voce deve digitar um numero inteiro\")\n",
    "\n",
    "# soma.py\n",
    "import entrada\n",
    "l = []\n",
    "for x in range(10):\n",
    "    l.append(entrada.valida_inteiro(\"Digite um numero:\", 0 , 20))\n",
    "print(f\"Soma: {sum(l)}\")"
   ]
  },
  {
   "cell_type": "code",
   "execution_count": null,
   "metadata": {},
   "outputs": [],
   "source": [
    "\"\"\"\n",
    "import matplotlib                               -> importar\n",
    "import matplotlib as plt                        -> alias\n",
    "from collections import defaultdict, Counter    -> valores especificos\n",
    "from re import *                                -> importar conteudo inteiro\n",
    "\"\"\""
   ]
  },
  {
   "cell_type": "markdown",
   "metadata": {},
   "source": [
    "### Arquivo\n",
    "---"
   ]
  },
  {
   "cell_type": "code",
   "execution_count": null,
   "metadata": {},
   "outputs": [],
   "source": [
    "# r, w, a, +\n",
    "with open(\"test.txt\", \"w\") as multiplos4:\n",
    "    with open(\"pares.txt\") as pares:\n",
    "        for l in pares.readlines():\n",
    "            if int(l) % 4 == 0:\n",
    "                multiplos4.write(l)"
   ]
  },
  {
   "cell_type": "markdown",
   "metadata": {},
   "source": [
    "#### **Diretório**"
   ]
  },
  {
   "cell_type": "code",
   "execution_count": null,
   "metadata": {},
   "outputs": [],
   "source": [
    "import os\n",
    "os.getcwd()\n",
    "os.mkdir(\"x\")\n",
    "os.makedirs(\"y/z\")\n",
    "os.rename(\"x\", \"x2\")\n",
    "os.remove(\"test.txt\")\n",
    "os.listdir(\"x2\")\n",
    "\n",
    "## isdir e isfile\n",
    "import os.path\n",
    "\n",
    "for a in os.listdir(\".\"):\n",
    "    if os.path.isdir(a):\n",
    "        print(f\"{a}/\")\n",
    "    elif os.path.isfile(a):\n",
    "        print(a)\n",
    "\n",
    "## Verificação\n",
    "if os.path.exists(\"z\"):\n",
    "    print(\"O diretorio z existe\")\n",
    "else:\n",
    "    print(\"O diretorio z nao existe\")"
   ]
  },
  {
   "cell_type": "markdown",
   "metadata": {},
   "source": [
    "### Classes e Objetos \n",
    "---"
   ]
  },
  {
   "cell_type": "markdown",
   "metadata": {},
   "source": [
    "#### **Objeto**"
   ]
  },
  {
   "cell_type": "code",
   "execution_count": null,
   "metadata": {},
   "outputs": [],
   "source": [
    "# classe - associa dados e operacoes em uma só estrutura\n",
    "# objeto - instancia/variavel de uma classe\n",
    "#\n",
    "# __init__ -> construtor\n",
    "# - definir o compratmento de todos os objetos de uma classe (metodos), preservando os valores individuas de cada um (atributos)\n",
    "class Televisao: # padrao PascalCase\n",
    "    def __init__(self):     # construtor/inicializador\n",
    "        self.ligada = False # atributo; self = refere a instancia da classe especifica\n",
    "        self.canal = 2      \n",
    "    \n",
    "    def muda_canal_para_baixo(self):    # metodo é associado a uma classe e atua sobre um objeto\n",
    "        self.canal -= 1                 # modifica atributo\n",
    "\n",
    "    def muda_canal_para_cima(self):    \n",
    "        self.canal += 1                "
   ]
  },
  {
   "cell_type": "code",
   "execution_count": null,
   "metadata": {},
   "outputs": [],
   "source": [
    "## caso 1\n",
    "tv = Televisao()    # instancia objeto\n",
    "tv.ligada           # False\n",
    "tv.canal            # 2\n",
    "\n",
    "tv_sala = Televisao()   # instancia objeto\n",
    "tv_sala.ligada = True   # modifica valor do atributo\n",
    "tv_sala.canal = 4       # modifica valor do atributo\n",
    "tv.canal                # 2\n",
    "tv_sala.canal           # 4\n",
    "\n",
    "## caso 2\n",
    "tv = Televisao()\n",
    "tv.muda_canal_para_cima()\n",
    "tv.muda_canal_para_cima()\n",
    "tv.canal    # 4\n",
    "\n",
    "tv.muda_canal_para_baixo()\n",
    "tv.canal    # 3"
   ]
  },
  {
   "cell_type": "markdown",
   "metadata": {},
   "source": [
    "#### **Passagem de paramêtro**"
   ]
  },
  {
   "cell_type": "code",
   "execution_count": null,
   "metadata": {},
   "outputs": [],
   "source": [
    "class Televisao:\n",
    "    # passa parametro\n",
    "    def __init__(self, min, max) -> None: \n",
    "        self.ligada = False\n",
    "        self.canal = 2\n",
    "        self.cmim = min\n",
    "        self.cmax = max\n",
    "\n",
    "    def muda_canal_para_baixo(self):\n",
    "        if self.canal - 1 >= self.cmim:\n",
    "            self.canal -= 1\n",
    "\n",
    "    def muda_canal_para_cima(self):\n",
    "        if self.canal + 1 <= self.cmax:\n",
    "            self.canal += 1\n",
    "\n",
    "tv = Televisao(1, 99)\n",
    "\n",
    "for x in range(0, 120):\n",
    "    tv.muda_canal_para_cima()\n",
    "print(tv.canal) \n",
    "\n",
    "for x in range(0, 120):\n",
    "    tv.muda_canal_para_baixo()\n",
    "print(tv.canal) "
   ]
  },
  {
   "cell_type": "code",
   "execution_count": null,
   "metadata": {},
   "outputs": [],
   "source": [
    "class CountingClicker:\n",
    "    def __init__(self, count = 0):\n",
    "        self.count = count\n",
    "\n",
    "    def __repr__(self):\n",
    "        return f\"CountingClicker(count={self.count})\"\n",
    "    \n",
    "    def click(self, num_times = 1):\n",
    "        self.count += num_times\n",
    "    \n",
    "    def read(self):\n",
    "        return self.count\n",
    "\n",
    "    def reset(self):\n",
    "        self.count = 0\n",
    "\n",
    "\n",
    "clicker = CountingClicker()\n",
    "assert clicker.read() == 0, \"clicker should start with count 0\"\n",
    "clicker.click()\n",
    "clicker.click()\n",
    "assert clicker.read() == 2, \"after two clicks, clicker should have count 2\"\n",
    "clicker.reset()\n",
    "assert clicker.read() == 0, \"afeter reset, clicker should be back to 0\""
   ]
  },
  {
   "cell_type": "markdown",
   "metadata": {},
   "source": [
    "#### **Herança**"
   ]
  },
  {
   "cell_type": "code",
   "execution_count": null,
   "metadata": {},
   "outputs": [],
   "source": [
    "class Conta:\n",
    "    pass\n",
    "\n",
    "class ContaEspecial(Conta): # ContaEspecial herda de Conta\n",
    "    def __init__(self, clientes, numero, saldo=0, limite=0) -> None:\n",
    "        Conta.__init__(self, clientes, numero , saldo)\n",
    "        self.limite = limite\n",
    "    def saque(self, valor):\n",
    "        if self.saldo + self.limite >= valor:\n",
    "            self.saldo -= valor\n",
    "            self.operecaoes.append([\"SAQUE\", valor])\n",
    "    "
   ]
  },
  {
   "cell_type": "markdown",
   "metadata": {},
   "source": [
    "### Formatação de espaco em branco\n",
    "---"
   ]
  },
  {
   "cell_type": "code",
   "execution_count": null,
   "metadata": {},
   "outputs": [],
   "source": [
    "# Sem tabulação\n",
    "long_winded_computation = (1 + 2 + 3 + 4 + 5 + 6 + 7 + 8 +\n",
    "                           9 + 10 + 11)\n",
    "\n",
    "# Com tabulação\n",
    "two_plus_three = 2 + \\\n",
    "                 3"
   ]
  },
  {
   "cell_type": "markdown",
   "metadata": {},
   "source": [
    "### Defaultdict e Counter\n",
    "---"
   ]
  },
  {
   "cell_type": "code",
   "execution_count": null,
   "metadata": {},
   "outputs": [],
   "source": [
    "from collections import defaultdict, Counter\n",
    "\n",
    "# defaultdict\n",
    "dd_list = defaultdict(list)\n",
    "dd_list[2].append(1)\n",
    "\n",
    "# counter\n",
    "c = Counter([0, 1, 2, 0]) "
   ]
  },
  {
   "cell_type": "markdown",
   "metadata": {},
   "source": [
    "### Teste Automatizados e Asserção\n",
    "---"
   ]
  },
  {
   "cell_type": "code",
   "execution_count": null,
   "metadata": {},
   "outputs": [],
   "source": [
    "def smalltest_item(xs):\n",
    "    return min(xs)\n",
    "\n",
    "# verifica se o codigo esta correto \n",
    "assert smalltest_item([10, 20, 5, 40]) == 5     # Ok\n",
    "assert smalltest_item([1, 0 , -1, 2]) == 0      # msg: AssertionError"
   ]
  },
  {
   "cell_type": "markdown",
   "metadata": {},
   "source": [
    "### Iteráveis e Geradores\n",
    "---"
   ]
  },
  {
   "cell_type": "code",
   "execution_count": null,
   "metadata": {},
   "outputs": [],
   "source": [
    "# gerador \n",
    "def generate_range(n):\n",
    "    i = 0\n",
    "    while i < n:\n",
    "        yield i     # cada chamada para yield produz um valor do gerador\n",
    "        i += 1\n",
    "        \n",
    "evens_below_20 = (i for i in generate_range(20) if i % 2 == 0)"
   ]
  },
  {
   "cell_type": "code",
   "execution_count": null,
   "metadata": {},
   "outputs": [],
   "source": [
    "# enumerate\n",
    "for i, name in enumerate(names):\n",
    "    print(f\"idx_name = {i} : value_name {name}\")"
   ]
  },
  {
   "cell_type": "markdown",
   "metadata": {},
   "source": [
    "### Zips e Descompactação de Argumento\n",
    "---"
   ]
  },
  {
   "cell_type": "code",
   "execution_count": null,
   "metadata": {},
   "outputs": [],
   "source": [
    "# zip\n",
    "l1 = ['a', 'b', 'c']\n",
    "l2 = [1, 2, 3]\n",
    "[pair for pair in zip(l1, l2)] # [('a', 1), ('b', 2), ('c', 3)]"
   ]
  },
  {
   "cell_type": "code",
   "execution_count": null,
   "metadata": {},
   "outputs": [],
   "source": [
    "# descompactacao do argumento\n",
    "pairs = [('a', 1), ('b', 2), ('c', 3)]\n",
    "lettres, numbers = zip(*pairs)\n",
    "\n",
    "##\n",
    "\n",
    "lettres, numbers = zip(('a', 1), ('b', 2), ('c', 3))"
   ]
  },
  {
   "cell_type": "markdown",
   "metadata": {},
   "source": [
    "### Anotações de Tipo (Tipagem)\n",
    "---"
   ]
  },
  {
   "cell_type": "code",
   "execution_count": null,
   "metadata": {},
   "outputs": [],
   "source": [
    "# tipada dinamicamente\n",
    "def add(a, b):\n",
    "    return a + b\n",
    "\n",
    "# tipada eestaticamente\n",
    "def add(a: int, b: int) -> int:\n",
    "    return a + b\n",
    "\n",
    "# Vector\n",
    "\n",
    "def dot_product(x, y): ...\n",
    "def dot_product(x: Vector, y: Vector) -> float: ...\n",
    "\n",
    "# Union\n",
    "\n",
    "def secretly_ugly_function(value, operation): ...\n",
    "def secretly_ugly_function(value: int,\n",
    "                           operation: Union[str, int, float, bool]) -> int: ..."
   ]
  },
  {
   "cell_type": "code",
   "execution_count": null,
   "metadata": {},
   "outputs": [],
   "source": [
    "# typing\n",
    "## List\n",
    "from typing import List \n",
    "def total(xs: List[float]) -> float:\n",
    "    return sum(total)\n",
    "\n",
    "## Optional\n",
    "\n",
    "from typing import Optional\n",
    "values: List[int] = []          \n",
    "best_so_far = Optional[float]   "
   ]
  }
 ],
 "metadata": {
  "kernelspec": {
   "display_name": "Python 3",
   "language": "python",
   "name": "python3"
  },
  "language_info": {
   "codemirror_mode": {
    "name": "ipython",
    "version": 3
   },
   "file_extension": ".py",
   "mimetype": "text/x-python",
   "name": "python",
   "nbconvert_exporter": "python",
   "pygments_lexer": "ipython3",
   "version": "3.12.3"
  }
 },
 "nbformat": 4,
 "nbformat_minor": 2
}
