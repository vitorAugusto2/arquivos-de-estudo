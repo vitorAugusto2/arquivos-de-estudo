{
 "cells": [
  {
   "cell_type": "markdown",
   "metadata": {},
   "source": [
    "# 📜 NUMPY"
   ]
  },
  {
   "cell_type": "code",
   "execution_count": null,
   "metadata": {},
   "outputs": [],
   "source": [
    "# importando \n",
    "import numpy as np"
   ]
  },
  {
   "cell_type": "code",
   "execution_count": null,
   "metadata": {},
   "outputs": [],
   "source": [
    "# Matrizes NumPy\n",
    "lista = np.array([1, 2, 3, 4, 5, 6])\n",
    "print(lista)\n",
    "\n",
    "a = np.arange(5)\n",
    "print(a)"
   ]
  },
  {
   "cell_type": "code",
   "execution_count": null,
   "metadata": {},
   "outputs": [],
   "source": [
    "# Criando um array a partir de um CSV\n",
    "csv_array = np.genfromtxt('sample.csv', delimiter=',')"
   ]
  },
  {
   "cell_type": "code",
   "execution_count": null,
   "metadata": {},
   "outputs": [],
   "source": [
    "# Operações com matrizes NumPy I\n",
    "l = [1, 2, 3, 4, 5]\n",
    "\n",
    "a = np.array(l)\n",
    "op1 = a + 3\n",
    "op2 = a ** 2\n",
    "op3 = np.sqrt(a)\n",
    "print(op1)\n",
    "print(op2)\n",
    "print(op3)\n",
    "\n",
    "\n",
    "# Operações com matrizes NumPy II\n",
    "a = np.array([1, 2, 3, 4, 5])\n",
    "b = np.array([6, 7, 8, 9, 10])\n",
    "soma_array = a + b\n",
    "print(soma_array)"
   ]
  },
  {
   "cell_type": "code",
   "execution_count": null,
   "metadata": {},
   "outputs": [],
   "source": [
    "# Matrizes bidimensionais\n",
    "array_2d = np.array([[1, 2, 3],\n",
    "                     [4, 5, 6],\n",
    "                     [7, 8, 9]])\n",
    "print(array_2d)\n",
    "\n",
    "a = np.arange(25).reshape(5, 5)\n",
    "print(a)"
   ]
  },
  {
   "cell_type": "code",
   "execution_count": null,
   "metadata": {},
   "outputs": [],
   "source": [
    "# Selecionando elementos de uma matriz 1D usando indice\n",
    "a = np.array([5, 2, 7, 0, 11])\n",
    "\n",
    "print(a[0])\n",
    "print(a[3])\n",
    "print(a[1:3])\n",
    "print(a[-1])\n",
    "print(a[:3])"
   ]
  },
  {
   "cell_type": "code",
   "execution_count": null,
   "metadata": {},
   "outputs": [],
   "source": [
    "# Selecionando elementos de uma matriz 2D usando dois indices\n",
    "a = np.array([[32, 15, 6, 9, 14], \n",
    "              [12, 10, 5, 23, 1],\n",
    "              [2, 16, 13, 40, 37]])\n",
    "\n",
    "# a[linhas, coluna]\n",
    "print(a[2, 1])      # selecionando um numero especifico\n",
    "print(a[:,0])       # selecionando coluna \n",
    "print(a[1,:])       # selecionando linha\n",
    "print(a[0,0:3])\n"
   ]
  },
  {
   "cell_type": "code",
   "execution_count": null,
   "metadata": {},
   "outputs": [],
   "source": [
    "# Operações Lógicas com Matrizes\n",
    "a = np.array([10, 2, 2, 4, 5, 3, 9, 8, 9, 7])\n",
    "\n",
    "print(a > 5)\n",
    "print(a[a > 5])\n",
    "print(a[(a >= 4) | (a < 2)])"
   ]
  },
  {
   "cell_type": "markdown",
   "metadata": {},
   "source": [
    "# 📈 ESTATÍSTICAS"
   ]
  },
  {
   "cell_type": "markdown",
   "metadata": {},
   "source": [
    "### Introdução"
   ]
  },
  {
   "cell_type": "code",
   "execution_count": null,
   "metadata": {},
   "outputs": [],
   "source": [
    "# sum, max, argmax e argmin\n",
    "a = np.random.randint(low=0, high=30, size=(5,5))\n",
    "print(f\"{a}\\n\")\n",
    "\n",
    "# Soma\n",
    "print(f\"Soma de todos os valores = {np.sum(a)}\")\n",
    "print(f\"Soma dos valores da colunas = {np.sum(a, axis=0)}\")\n",
    "print(f\"Soma dos valores da linhas = {np.sum(a, axis=1)}\")\n",
    "\n",
    "# Maximo\n",
    "print(f\"Maior valor da matriz = {np.max(a)}\")\n",
    "print(f\"Posicao do maior valor da matriz = {np.argmax(a)}\")\n",
    "print(f\"Maior valor em cada coluna = {np.max(a, axis=0)}\")\n",
    "print(f\"Posicao do maior valor em cada coluna = {np.argmax(a, axis=0)}\")\n",
    "print(f\"Maior valor em cada linha = {np.max(a, axis=1)}\")\n",
    "print(f\"Posicao do maior valor em cada linha = {np.argmax(a, axis=1)}\")\n"
   ]
  },
  {
   "cell_type": "code",
   "execution_count": null,
   "metadata": {},
   "outputs": [],
   "source": [
    "# Média \n",
    "notas = [8, 6, 10]\n",
    "notas_array = np.array(notas)\n",
    "media_notas = np.mean(notas_array)\n",
    "print(media_notas)\n",
    "\n",
    "\n",
    "## Lógica\n",
    "media_logica = np.mean(notas_array > 7)\n",
    "print(media_logica) # porcentagem de elementos do array\n",
    "\n",
    "\n",
    "## Média de matrizes 2D\n",
    "allergy_trials = np.array([[6, 1, 3, 8, 2], \n",
    "                           [2, 6, 3, 9, 8], \n",
    "                           [5, 2, 6, 9, 9]])\n",
    "\n",
    "total_mean = np.mean(allergy_trials)\n",
    "trial_mean = np.mean(allergy_trials, axis=1)    # eixo linha percorre (axis=1)\n",
    "patient_mean = np.mean(allergy_trials, axis=0)  # eixo coluna percorre (axis=0)\n",
    "\n",
    "print(f\"{total_mean} | {trial_mean} | {patient_mean}\")"
   ]
  },
  {
   "cell_type": "code",
   "execution_count": null,
   "metadata": {},
   "outputs": [],
   "source": [
    "# Valor discrepante - Classificacao \n",
    "a = np.random.randint(low=0, high=10, size=(4,4))\n",
    "print(f\"Matriz original = \\n {a}\\n\")\n",
    "\n",
    "# sort\n",
    "## Cria uma copia da matriz original, sem modifica-la\n",
    "## Ordenacao por linha (axis=1); padrao\n",
    "ordena_a_linha = np.sort(a)\n",
    "print(f\"Matriz ordenada por linha = \\n {ordena_a_linha} \\n\") \n",
    "\n",
    "\n",
    "## Ordenacao por coluna (axis=0)\n",
    "ordena_a_coluna = np.sort(a, axis=0)\n",
    "print(f\"Matriz ordenada por coluna = \\n {ordena_a_coluna} \\n\") \n",
    "\n",
    "\n",
    "# argsort\n",
    "indices_a = np.argsort(a)\n",
    "print(f\"Matriz ordenada por indice = \\n {indices_a}\")\n",
    "\n",
    "for i in range(a.shape[0]):\n",
    "    print(f\"Indices dos elemetos ordenados na linha {i}: {indices_a[i]}\")\n",
    "    print(f\"Linha {i}: {a[i]}\")\n",
    "    print(f\"Linha {i} ordenada: {a[i,indices_a[i]]}\")"
   ]
  },
  {
   "cell_type": "code",
   "execution_count": null,
   "metadata": {},
   "outputs": [],
   "source": [
    "# Mediana \n",
    "a = np.arange(5)\n",
    "print(a)\n",
    "print(f\"Mediana = {np.median(a)} \\n\")\n",
    "\n",
    "b = np.arange(6)\n",
    "print(b)\n",
    "print(f\"Mediana = {np.median(b)}\")\n",
    "\n"
   ]
  },
  {
   "cell_type": "code",
   "execution_count": null,
   "metadata": {},
   "outputs": [],
   "source": [
    "# Percentil - O N-ésimo percentil é definido como o ponto N% das amostras abaixo dele\n",
    "a = np.array([1, 2, 3, 4, 4, 4, 6, 6, 7,  8, 8])\n",
    "percentil = np.percentile(a, 40)\n",
    "print(percentil)\n",
    "\n",
    "\n",
    "\"\"\"\n",
    "O 25º percentil é chamado de primeiro quartil\n",
    "O percentil 50 é chamado de mediana\n",
    "O 75º percentil é chamado de terceiro quartil\n",
    "\"\"\" \n",
    "percentil_25 = np.percentile(a, 25)\n",
    "percentil_75 = np.percentile(a, 75)\n",
    "print(f\"25% = {percentil_25} | 75% = {percentil_75}\")\n",
    "\n",
    "\n",
    "\"\"\"\n",
    "Intervalo interquartil - ideia de quao dispersos os dados\n",
    "Quanto menor for o valor do intervalo interquartil, menor será a variação em nosso conjunto de dados. Quanto maior o \n",
    "valor, maior a variância.\n",
    "\"\"\"\n",
    "print(f\"Intervalo Interquartil =  {percentil_75 - percentil_25}\")"
   ]
  },
  {
   "cell_type": "code",
   "execution_count": null,
   "metadata": {},
   "outputs": [],
   "source": [
    "# Desvio padrao - indica a dispersao dos dados \n",
    "a = np.array([65, 36, 52, 91, 63, 79])\n",
    "print(f\"Desvio padrao = {np.std(a): .2f}\")"
   ]
  },
  {
   "cell_type": "markdown",
   "metadata": {},
   "source": [
    "### Distribuição"
   ]
  },
  {
   "cell_type": "code",
   "execution_count": null,
   "metadata": {},
   "outputs": [],
   "source": [
    "# Histograma\n",
    "\"\"\"\n",
    "- Alguns valores ocorrem com mais frequência do que outros?\n",
    "- Qual é o intervalo do conjunto de dados (ou seja, os valores mínimo e máximo)?\n",
    "- Existem muitos valores discrepantes?\n",
    "\"\"\"\n",
    "\n",
    "# Matplotlib\n",
    "from matplotlib import pyplot as plt\n",
    "\n",
    "a = np.array([1, 1, 1, 2, 2, 2, 2, 2, 3, 3, 4, 4, 4, 4, 5])\n",
    "plt.hist(a, bins=5, range=(1, 6))\n",
    "plt.show()"
   ]
  },
  {
   "cell_type": "code",
   "execution_count": null,
   "metadata": {},
   "outputs": [],
   "source": [
    "# Diferentes tipos de distribuicoes\n",
    "\"\"\"\n",
    "- unimodal: simétrico, inclinado a direita e inclinado a esquerda\n",
    "- bimodal\n",
    "- multimodal\n",
    "- uniform\n",
    "\"\"\""
   ]
  },
  {
   "cell_type": "code",
   "execution_count": null,
   "metadata": {},
   "outputs": [],
   "source": [
    "# Distribuicao normal (distribuição simétrica e unimodal)\n",
    "\"\"\"\n",
    "As distribuições normais são definidas pela sua média e desvio padrão. A média define o “meio” da distribuição e o \n",
    "desvio padrão define a “largura” da distribuição.\n",
    "\"\"\"\n",
    "\n",
    "# np.random.normal(loc, escala, tamanho)\n",
    "\"\"\"\n",
    "- loc: a média da distribuição normal\n",
    "- escala: o desvio padrão da distribuição\n",
    "- tamanho: o número de números aleatórios a serem gerados\n",
    "\"\"\"\n",
    "\n",
    "b_data = np.random.normal(6.7, 0.7, 1000)\n",
    "f_data = np.random.normal(7.7, 0.3, 1000)\n",
    "\n",
    "plt.hist(b_data,\n",
    "         bins=30, range=(5, 8.5), histtype='step',\n",
    "         label='Brachiosaurus')\n",
    "plt.hist(f_data,\n",
    "         bins=30, range=(5, 8.5), histtype='step',\n",
    "         label='Fictionosaurus')\n",
    "plt.xlabel('Femur Length (ft)')\n",
    "plt.legend(loc=2)\n",
    "plt.show()"
   ]
  },
  {
   "cell_type": "code",
   "execution_count": null,
   "metadata": {},
   "outputs": [],
   "source": [
    "# Desvio Padrao e Distribuicao Normal\n",
    "\"\"\"\n",
    "- 68% de nossas amostras ficarão entre +/- 1 desvio padrão da média\n",
    "- 95% de nossas amostras ficarão entre +/- 2 desvios padrão da média\n",
    "- 99,7% de nossas amostras ficarão entre +/- 3 desvios padrão da média\n",
    "\"\"\""
   ]
  },
  {
   "cell_type": "code",
   "execution_count": null,
   "metadata": {},
   "outputs": [],
   "source": [
    "# Distribuicao binomial\n",
    "\"\"\"\n",
    "Qual a probabilidade de ocorrer um certo número de “sucessos”, dada a probabilidade \n",
    "de sucesso e um número de tentativas = probabilidade de um determinado resultado, \n",
    "mesmo quando não é o esperado\n",
    "\"\"\"\n",
    "\n",
    "# np.random.binomial(N, P, tamanho)\n",
    "\"\"\"\n",
    "A função retornará o número de sucessos de cada “experimento”\n",
    "- N : O número de amostras ou ensaios\n",
    "- P : A probabilidade de sucesso\n",
    "- tamanho : o número de experimentos\n",
    "\"\"\"\n",
    "\n",
    "a = np.random.binomial(10, 0.30, size=10000)\n",
    "\n",
    "plt.hist(a, range=(0, 10), bins=10)\n",
    "plt.xlabel('Number of \"Free Throws\"')\n",
    "plt.ylabel('Frequency')\n",
    "plt.show()\n",
    "\n",
    "\"\"\"\n",
    "calcular a média de uma afirmação lógica nos dará a percentagem de valores que \n",
    "satisfazem a nossa afirmação lógica\n",
    "\"\"\"\n",
    "acertou_4 = np.mean(a == 4) \n",
    "print(f\"Probabildiade, caso acerta 4 = {acertou_4: .2f}\")\n"
   ]
  },
  {
   "cell_type": "code",
   "execution_count": null,
   "metadata": {},
   "outputs": [],
   "source": []
  }
 ],
 "metadata": {
  "kernelspec": {
   "display_name": "Python 3",
   "language": "python",
   "name": "python3"
  },
  "language_info": {
   "codemirror_mode": {
    "name": "ipython",
    "version": 3
   },
   "file_extension": ".py",
   "mimetype": "text/x-python",
   "name": "python",
   "nbconvert_exporter": "python",
   "pygments_lexer": "ipython3",
   "version": "3.12.3"
  }
 },
 "nbformat": 4,
 "nbformat_minor": 2
}
