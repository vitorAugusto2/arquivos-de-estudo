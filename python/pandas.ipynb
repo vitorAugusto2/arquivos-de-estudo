{
 "cells": [
  {
   "cell_type": "markdown",
   "metadata": {},
   "source": [
    "# 🐼 Pandas - Criando, Carregando e Selecionando"
   ]
  },
  {
   "cell_type": "markdown",
   "metadata": {},
   "source": [
    "## Introducao"
   ]
  },
  {
   "cell_type": "markdown",
   "metadata": {},
   "source": [
    "### 1. Importando o módulo Pandas\n",
    "Pandas é um módulo Python para trabalhar com dados tabulares (ou seja, dados em uma tabela com linhas e colunas)."
   ]
  },
  {
   "cell_type": "code",
   "execution_count": 69,
   "metadata": {},
   "outputs": [],
   "source": [
    "import pandas as pd"
   ]
  },
  {
   "cell_type": "markdown",
   "metadata": {},
   "source": [
    "### 2. Crie um DataFrame I\n",
    "\n",
    "Um DataFrame é um objeto que armazena dados como linhas e colunas. Você pode pensar em um DataFrame como uma planilha ou uma tabela SQL. Você pode criar manualmente um DataFrame ou preenchê-lo com dados de um CSV, uma planilha do Excel ou uma consulta SQL.\n",
    "\n",
    "DataFrames possuem linhas e colunas. Cada coluna possui um nome, que é uma string. Cada linha possui um índice, que é um número inteiro. DataFrames podem conter muitos tipos de dados diferentes: strings, ints, floats, tuples, etc.\n",
    "\n",
    "Você pode passar um dicionário para **pd.DataFrame()**. Cada chave é um nome de coluna e cada valor é uma lista de valores de coluna. As colunas devem ter todas o mesmo comprimento ou você receberá um erro."
   ]
  },
  {
   "cell_type": "code",
   "execution_count": 70,
   "metadata": {},
   "outputs": [
    {
     "name": "stdout",
     "output_type": "stream",
     "text": [
      "   Product ID Product Name  Color\n",
      "0           1      t-shirt   blue\n",
      "1           2      t-shirt  green\n",
      "2           3        skirt    red\n",
      "3           4        skirt  black\n"
     ]
    }
   ],
   "source": [
    "df1 = pd.DataFrame({\n",
    "  'Product ID': [1, 2, 3, 4],\n",
    "  'Product Name': ['t-shirt', 't-shirt', 'skirt', 'skirt'],\n",
    "  'Color': ['blue', 'green', 'red', 'black']\n",
    "})\n",
    "\n",
    "print(df1)"
   ]
  },
  {
   "cell_type": "markdown",
   "metadata": {},
   "source": [
    "### 3. Crie um DataFrame II\n",
    "Pode passar uma lista de listas, onde cada uma representa uma linha de dados. Use o argumento palavra-chave **columns** para passar uma lista de nomes de colunas."
   ]
  },
  {
   "cell_type": "code",
   "execution_count": 71,
   "metadata": {},
   "outputs": [
    {
     "name": "stdout",
     "output_type": "stream",
     "text": [
      "   Store ID       Location  Number of Employees\n",
      "0         1      San Diego                  100\n",
      "1         2    Los Angeles                  120\n",
      "2         3  San Francisco                   90\n",
      "3         4     Sacramento                  115\n"
     ]
    }
   ],
   "source": [
    "df2 = pd.DataFrame([\n",
    "  [1, 'San Diego', 100],\n",
    "  [2, 'Los Angeles', 120],\n",
    "  [3, 'San Francisco', 90],\n",
    "  [4, 'Sacramento', 115]\n",
    "],\n",
    "  columns = [\n",
    "    'Store ID', 'Location', 'Number of Employees'\n",
    "  ])\n",
    "\n",
    "print(df2)"
   ]
  },
  {
   "cell_type": "markdown",
   "metadata": {},
   "source": [
    "### 4. Variáveis ​​​​separadas por vírgula (CSV)\n",
    "CSV (valores separados por vírgula) é um formato de planilha somente texto\n",
    "\n",
    "A primeira linha de um CSV contém títulos de colunas. Todas as linhas subsequentes contêm valores. Cada cabeçalho de coluna e cada variável são separados por uma vírgula:\n",
    "\n",
    "column1,column2,column3\n",
    "\n",
    "value1,value2,value3\n",
    "\n",
    "##### exmeplo:\n",
    "name,cake_flavor,frosting_flavor,topping\n",
    "\n",
    "Chocolate Cake,chocolate,chocolate,chocolate shavings\n",
    "\n",
    "Birthday Cake,vanilla,vanilla,rainbow sprinkles\n",
    "\n",
    "Carrot cake,carrot,cream cheese,almonds"
   ]
  },
  {
   "cell_type": "markdown",
   "metadata": {},
   "source": [
    "### 5. Carregando e salvando CSVs\n",
    "Quando você tem dados em um CSV, você pode carregá-los em um DataFrame no Pandas usando **.read_csv()**\n",
    "\n",
    "Também podemos salvar dados em um CSV, usando **.to_csv()**"
   ]
  },
  {
   "cell_type": "code",
   "execution_count": 72,
   "metadata": {},
   "outputs": [
    {
     "name": "stdout",
     "output_type": "stream",
     "text": [
      "      id                                       name   genre  year  imdb_rating\n",
      "0      1                                     Avatar  action  2009          7.9\n",
      "1      2                             Jurassic World  action  2015          7.3\n",
      "2      3                               The Avengers  action  2012          8.1\n",
      "3      4                            The Dark Knight  action  2008          9.0\n",
      "4      5  Star Wars: Episode I - The Phantom Menace  action  1999          6.6\n",
      "..   ...                                        ...     ...   ...          ...\n",
      "215  216                                   Hannibal   drama  2001          6.7\n",
      "216  217                        Catch Me If You Can   drama  2002          8.0\n",
      "217  218                                  Big Daddy   drama  1999          6.4\n",
      "218  219                                      Se7en   drama  1995          8.6\n",
      "219  220                                      Seven   drama  1979          6.1\n",
      "\n",
      "[220 rows x 5 columns]\n"
     ]
    }
   ],
   "source": [
    "df = pd.read_csv('data/imdb.csv')\n",
    "print(df)"
   ]
  },
  {
   "cell_type": "markdown",
   "metadata": {},
   "source": [
    "### 6. Inspecione um DataFrame\n",
    "O método **df.head()** fornece as primeiras 5 linhas de um DataFrame. Se quiser ver mais linhas, você pode passar o argumento posicional n\n",
    "\n",
    "O método **df.info()** fornece algumas estatísticas para cada coluna, como dtype, colunas, memoria ocupada, entre outros"
   ]
  },
  {
   "cell_type": "code",
   "execution_count": 73,
   "metadata": {},
   "outputs": [
    {
     "name": "stdout",
     "output_type": "stream",
     "text": [
      "   id                                       name   genre  year  imdb_rating\n",
      "0   1                                     Avatar  action  2009          7.9\n",
      "1   2                             Jurassic World  action  2015          7.3\n",
      "2   3                               The Avengers  action  2012          8.1\n",
      "3   4                            The Dark Knight  action  2008          9.0\n",
      "4   5  Star Wars: Episode I - The Phantom Menace  action  1999          6.6\n"
     ]
    }
   ],
   "source": [
    "print(df.head())"
   ]
  },
  {
   "cell_type": "code",
   "execution_count": 74,
   "metadata": {},
   "outputs": [
    {
     "name": "stdout",
     "output_type": "stream",
     "text": [
      "<class 'pandas.core.frame.DataFrame'>\n",
      "RangeIndex: 220 entries, 0 to 219\n",
      "Data columns (total 5 columns):\n",
      " #   Column       Non-Null Count  Dtype  \n",
      "---  ------       --------------  -----  \n",
      " 0   id           220 non-null    int64  \n",
      " 1   name         220 non-null    object \n",
      " 2   genre        220 non-null    object \n",
      " 3   year         220 non-null    int64  \n",
      " 4   imdb_rating  220 non-null    float64\n",
      "dtypes: float64(1), int64(2), object(2)\n",
      "memory usage: 8.7+ KB\n",
      "None\n"
     ]
    }
   ],
   "source": [
    "print(df.info())"
   ]
  },
  {
   "cell_type": "markdown",
   "metadata": {},
   "source": [
    "### 7. Selecione Colunas\n",
    "Existem duas sintaxes possíveis para selecionar todos os valores de uma coluna:\n",
    "\n",
    "1. Selecione a coluna como se estivesse selecionando um valor de um dicionário usando uma chave. Em nosso exemplo, digitaríamos **df['column']** para selecionar as idades\n",
    "2. Se o nome de uma coluna seguir todas as regras para um nome de variável (não começar com um número, não conter espaços ou caracteres especiais, etc.), então você poderá selecioná-la usando a seguinte notação: df.MySecondColumn. Em nosso exemplo, digitaríamos **df.column**"
   ]
  },
  {
   "cell_type": "code",
   "execution_count": 75,
   "metadata": {},
   "outputs": [
    {
     "name": "stdout",
     "output_type": "stream",
     "text": [
      "<class 'pandas.core.frame.DataFrame'>\n"
     ]
    }
   ],
   "source": [
    "df = pd.DataFrame([\n",
    "  ['January', 100, 100, 23, 100],\n",
    "  ['February', 51, 45, 145, 45],\n",
    "  ['March', 81, 96, 65, 96],\n",
    "  ['April', 80, 80, 54, 180],\n",
    "  ['May', 51, 54, 54, 154],\n",
    "  ['June', 112, 109, 79, 129]],\n",
    "  columns=['month', 'clinic_east',\n",
    "           'clinic_north', 'clinic_south',\n",
    "           'clinic_west']\n",
    ")\n",
    "\n",
    "clinic_north = df['clinic_north']\n",
    "#print(type(clinic_north))\n",
    "print(type(df))"
   ]
  },
  {
   "cell_type": "markdown",
   "metadata": {},
   "source": [
    "### 8. Selecionando múltiplas colunas\n",
    "Para selecionar duas ou mais colunas de um DataFrame, usamos uma lista de nomes de colunas\n",
    "\n",
    "**Nota:** Certifique-se de ter um conjunto duplo de colchetes ([[]]), ou este comando não funcionará!"
   ]
  },
  {
   "cell_type": "code",
   "execution_count": 76,
   "metadata": {},
   "outputs": [
    {
     "name": "stdout",
     "output_type": "stream",
     "text": [
      "<class 'pandas.core.frame.DataFrame'>\n"
     ]
    }
   ],
   "source": [
    "df = pd.DataFrame([\n",
    "  ['January', 100, 100, 23, 100],\n",
    "  ['February', 51, 45, 145, 45],\n",
    "  ['March', 81, 96, 65, 96],\n",
    "  ['April', 80, 80, 54, 180],\n",
    "  ['May', 51, 54, 54, 154],\n",
    "  ['June', 112, 109, 79, 129]],\n",
    "  columns=['month', 'clinic_east',\n",
    "           'clinic_north', 'clinic_south',\n",
    "           'clinic_west']\n",
    ")\n",
    "\n",
    "clinic_north_south = df[['clinic_north', 'clinic_south']]\n",
    "print(type(clinic_north_south))"
   ]
  },
  {
   "cell_type": "markdown",
   "metadata": {},
   "source": [
    "### 9. Selecione linhas\n",
    "DataFrames são indexados em zero, o que significa que começamos com a 0ª linha e contamos a partir daí\n",
    "\n",
    "```python\n",
    "df.iloc[1]\n",
    "```\n"
   ]
  },
  {
   "cell_type": "code",
   "execution_count": 77,
   "metadata": {},
   "outputs": [
    {
     "name": "stdout",
     "output_type": "stream",
     "text": [
      "month           March\n",
      "clinic_east        81\n",
      "clinic_north       96\n",
      "clinic_south       65\n",
      "clinic_west        96\n",
      "Name: 2, dtype: object\n"
     ]
    }
   ],
   "source": [
    "df = pd.DataFrame([\n",
    "  ['January', 100, 100, 23, 100],\n",
    "  ['February', 51, 45, 145, 45],\n",
    "  ['March', 81, 96, 65, 96],\n",
    "  ['April', 80, 80, 54, 180],\n",
    "  ['May', 51, 54, 54, 154],\n",
    "  ['June', 112, 109, 79, 129]],\n",
    "  columns=['month', 'clinic_east',\n",
    "           'clinic_north', 'clinic_south',\n",
    "           'clinic_west'])\n",
    "\n",
    "march = df.iloc[2]\n",
    "print(march)"
   ]
  },
  {
   "cell_type": "markdown",
   "metadata": {},
   "source": [
    "### 10. Selecionando múltiplas linhas\n",
    "Algumas maneiras de selecionar varias linhas (utiliza fatiamento):\n",
    "\n",
    "```python\n",
    "df.iloc[3:7]\n",
    "df.iloc[:4]\n",
    "df.iloc[-3:]\n",
    "```"
   ]
  },
  {
   "cell_type": "code",
   "execution_count": 78,
   "metadata": {},
   "outputs": [
    {
     "name": "stdout",
     "output_type": "stream",
     "text": [
      "   month  clinic_east  clinic_north  clinic_south  clinic_west\n",
      "3  April           80            80            54          180\n",
      "4    May           51            54            54          154\n",
      "5   June          112           109            79          129\n"
     ]
    }
   ],
   "source": [
    "df = pd.DataFrame([\n",
    "  ['January', 100, 100, 23, 100],\n",
    "  ['February', 51, 45, 145, 45],\n",
    "  ['March', 81, 96, 65, 96],\n",
    "  ['April', 80, 80, 54, 180],\n",
    "  ['May', 51, 54, 54, 154],\n",
    "  ['June', 112, 109, 79, 129]],\n",
    "  columns=['month', 'clinic_east',\n",
    "           'clinic_north', 'clinic_south',\n",
    "           'clinic_west']\n",
    ")\n",
    "\n",
    "april_may_june = df.iloc[3:7]\n",
    "print(april_may_june)"
   ]
  },
  {
   "cell_type": "markdown",
   "metadata": {},
   "source": [
    "### 11. Selecione linhas com lógica I\n",
    "Você pode selecionar um subconjunto de um DataFrame usando instruções lógicas:\n",
    "\n",
    "```python\n",
    "df[df.MyColumnName == desired_column_value] \n",
    "# operadores logico (<, >, >=, <= e !=)\n",
    "```"
   ]
  },
  {
   "cell_type": "code",
   "execution_count": 79,
   "metadata": {},
   "outputs": [
    {
     "name": "stdout",
     "output_type": "stream",
     "text": [
      "     month  clinic_east  clinic_north  clinic_south  clinic_west\n",
      "0  January          100           100            23          100\n"
     ]
    }
   ],
   "source": [
    "df = pd.DataFrame([\n",
    "  ['January', 100, 100, 23, 100],\n",
    "  ['February', 51, 45, 145, 45],\n",
    "  ['March', 81, 96, 65, 96],\n",
    "  ['April', 80, 80, 54, 180],\n",
    "  ['May', 51, 54, 54, 154],\n",
    "  ['June', 112, 109, 79, 129]],\n",
    "  columns=['month', 'clinic_east',\n",
    "           'clinic_north', 'clinic_south',\n",
    "           'clinic_west'])\n",
    "\n",
    "january = df[df.month == 'January']\n",
    "print(january)"
   ]
  },
  {
   "cell_type": "markdown",
   "metadata": {},
   "source": [
    "### 12. Selecione linhas com Logic II\n",
    "**|** significa “ou” e **&** significa “e”\n",
    "\n",
    "```python\n",
    "df[(df.MyColumnName1 == desired_column_value1)|\n",
    "   (df.MyColumnName2 != desired_column_value2)] \n",
    "```"
   ]
  },
  {
   "cell_type": "code",
   "execution_count": 80,
   "metadata": {},
   "outputs": [
    {
     "name": "stdout",
     "output_type": "stream",
     "text": [
      "   month  clinic_east  clinic_north  clinic_south  clinic_west\n",
      "2  March           81            96            65           96\n",
      "3  April           80            80            54          180\n"
     ]
    }
   ],
   "source": [
    "df = pd.DataFrame([\n",
    "  ['January', 100, 100, 23, 100],\n",
    "  ['February', 51, 45, 145, 45],\n",
    "  ['March', 81, 96, 65, 96],\n",
    "  ['April', 80, 80, 54, 180],\n",
    "  ['May', 51, 54, 54, 154],\n",
    "  ['June', 112, 109, 79, 129]],\n",
    "  columns=['month', 'clinic_east',\n",
    "           'clinic_north', 'clinic_south',\n",
    "           'clinic_west'])\n",
    "\n",
    "\n",
    "march_april = df[(df.month == 'March')|\n",
    "                (df.month == 'April')]\n",
    "print(march_april)"
   ]
  },
  {
   "cell_type": "markdown",
   "metadata": {},
   "source": [
    "### 13. Selecione linhas com Logic III\n",
    "Poderíamos usar o **isin** comando para verificar se **df.name** é um de uma lista de valores"
   ]
  },
  {
   "cell_type": "code",
   "execution_count": 81,
   "metadata": {},
   "outputs": [
    {
     "name": "stdout",
     "output_type": "stream",
     "text": [
      "      month  clinic_east  clinic_north  clinic_south  clinic_west\n",
      "0   January          100           100            23          100\n",
      "1  February           51            45           145           45\n",
      "2     March           81            96            65           96\n"
     ]
    }
   ],
   "source": [
    "df = pd.DataFrame([\n",
    "  ['January', 100, 100, 23, 100],\n",
    "  ['February', 51, 45, 145, 45],\n",
    "  ['March', 81, 96, 65, 96],\n",
    "  ['April', 80, 80, 54, 180],\n",
    "  ['May', 51, 54, 54, 154],\n",
    "  ['June', 112, 109, 79, 129]],\n",
    "  columns=['month', 'clinic_east',\n",
    "           'clinic_north', 'clinic_south',\n",
    "           'clinic_west'])\n",
    "\n",
    "january_february_march = df[df.month.isin(['January', 'February', 'March'])]\n",
    "print(january_february_march)"
   ]
  },
  {
   "cell_type": "markdown",
   "metadata": {},
   "source": [
    "### 14. Definir índices\n",
    "Quando selecionamos um subconjunto de um DataFrame usando lógica, obtemos índices não consecutivos. Isso é deselegante e dificulta o uso **.iloc()**.\n",
    "\n",
    "Podemos corrigir isso usando o método **.reset_index()**.\n",
    "\n",
    "Se executarmos o comando **df.reset_index(drop=True)**, para nao acabar com a coluna indice.\n",
    "\n",
    "Usar **.reset_index()r** retornará um novo DataFrame, mas geralmente queremos apenas modificar nosso DataFrame existente. Se usarmos a palavra-chave, **inplace=True** podemos simplesmente modificar nosso DataFrame existente."
   ]
  },
  {
   "cell_type": "code",
   "execution_count": 82,
   "metadata": {},
   "outputs": [
    {
     "name": "stdout",
     "output_type": "stream",
     "text": [
      "   index     month  clinic_east  clinic_north  clinic_south  clinic_west\n",
      "0      1  February           51            45           145           45\n",
      "1      3     April           80            80            54          180\n",
      "2      5      June          112           109            79          129\n",
      "      month  clinic_east  clinic_north  clinic_south  clinic_west\n",
      "0  February           51            45           145           45\n",
      "1     April           80            80            54          180\n",
      "2      June          112           109            79          129\n"
     ]
    }
   ],
   "source": [
    "df = pd.DataFrame([\n",
    "  ['January', 100, 100, 23, 100],\n",
    "  ['February', 51, 45, 145, 45],\n",
    "  ['March', 81, 96, 65, 96],\n",
    "  ['April', 80, 80, 54, 180],\n",
    "  ['May', 51, 54, 54, 154],\n",
    "  ['June', 112, 109, 79, 129]],\n",
    "  columns=['month', 'clinic_east',\n",
    "           'clinic_north', 'clinic_south',\n",
    "           'clinic_west']\n",
    ")\n",
    "\n",
    "df2 = df.loc[[1, 3, 5]]\n",
    "\n",
    "# print(df2)\n",
    "\n",
    "df3 = df2.reset_index()\n",
    "\n",
    "print(df3)\n",
    "\n",
    "df2.reset_index(inplace = True, drop = True)\n",
    "\n",
    "print(df2)"
   ]
  },
  {
   "cell_type": "markdown",
   "metadata": {},
   "source": [
    "## Modificando Dataframe"
   ]
  },
  {
   "cell_type": "markdown",
   "metadata": {},
   "source": [
    "### 1. Adicionando uma coluna I\n",
    "\n",
    "Uma maneira de adicionar uma nova coluna é fornecendo uma lista com o mesmo comprimento do DataFrame existente"
   ]
  },
  {
   "cell_type": "code",
   "execution_count": 83,
   "metadata": {},
   "outputs": [
    {
     "name": "stdout",
     "output_type": "stream",
     "text": [
      "   Product ID   Description  Cost to Manufacture  Price Sold in Bulk?\n",
      "0           1  3 inch screw                  0.5   0.75           Yes\n",
      "1           2   2 inch nail                  0.1   0.25           Yes\n",
      "2           3        hammer                  3.0   5.50            No\n",
      "3           4   screwdriver                  2.5   3.00            No\n"
     ]
    }
   ],
   "source": [
    "df = pd.DataFrame([\n",
    "  [1, '3 inch screw', 0.5, 0.75],\n",
    "  [2, '2 inch nail', 0.10, 0.25],\n",
    "  [3, 'hammer', 3.00, 5.50],\n",
    "  [4, 'screwdriver', 2.50, 3.00]\n",
    "],\n",
    "  columns=['Product ID', 'Description', 'Cost to Manufacture', 'Price']\n",
    ")\n",
    "\n",
    "df['Sold in Bulk?'] = ['Yes', 'Yes', 'No', 'No']\n",
    "print(df)"
   ]
  },
  {
   "cell_type": "markdown",
   "metadata": {},
   "source": [
    "### 2. Adicionando uma Coluna II\n",
    "\n",
    "Também podemos adicionar uma nova coluna que seja igual para todas as linhas do DataFrame."
   ]
  },
  {
   "cell_type": "code",
   "execution_count": 84,
   "metadata": {},
   "outputs": [
    {
     "name": "stdout",
     "output_type": "stream",
     "text": [
      "   Product ID   Description  Cost to Manufacture  Price Is taxed?\n",
      "0           1  3 inch screw                  0.5   0.75       Yes\n",
      "1           2   2 inch nail                  0.1   0.25       Yes\n",
      "2           3        hammer                  3.0   5.50       Yes\n",
      "3           4   screwdriver                  2.5   3.00       Yes\n"
     ]
    }
   ],
   "source": [
    "df = pd.DataFrame([\n",
    "  [1, '3 inch screw', 0.5, 0.75],\n",
    "  [2, '2 inch nail', 0.10, 0.25],\n",
    "  [3, 'hammer', 3.00, 5.50],\n",
    "  [4, 'screwdriver', 2.50, 3.00]\n",
    "],\n",
    "  columns=['Product ID', 'Description', 'Cost to Manufacture', 'Price']\n",
    ")\n",
    "\n",
    "df[\"Is taxed?\"] = \"Yes\"\n",
    "print(df)"
   ]
  },
  {
   "cell_type": "markdown",
   "metadata": {},
   "source": [
    "### 3. Adicionando uma Coluna III\n",
    "\n",
    "Adcionando uma nova coluna executando uma função nas colunas existentes"
   ]
  },
  {
   "cell_type": "code",
   "execution_count": 85,
   "metadata": {},
   "outputs": [
    {
     "name": "stdout",
     "output_type": "stream",
     "text": [
      "   Product ID   Description  Cost to Manufacture  Price  Margin\n",
      "0           1  3 inch screw                  0.5   0.75    0.25\n",
      "1           2   2 inch nail                  0.1   0.25    0.15\n",
      "2           3        hammer                  3.0   5.50    2.50\n",
      "3           4   screwdriver                  2.5   3.00    0.50\n"
     ]
    }
   ],
   "source": [
    "df = pd.DataFrame([\n",
    "  [1, '3 inch screw', 0.5, 0.75],\n",
    "  [2, '2 inch nail', 0.10, 0.25],\n",
    "  [3, 'hammer', 3.00, 5.50],\n",
    "  [4, 'screwdriver', 2.50, 3.00]\n",
    "],\n",
    "  columns=['Product ID', 'Description', 'Cost to Manufacture', 'Price']\n",
    ")\n",
    "\n",
    "df['Margin'] = df['Price'] - df['Cost to Manufacture']\n",
    "print(df)"
   ]
  },
  {
   "cell_type": "markdown",
   "metadata": {},
   "source": [
    "### 4. Executando operações de coluna\n",
    "\n",
    "**apply** função para aplicar uma função a cada valor em uma coluna específica"
   ]
  },
  {
   "cell_type": "code",
   "execution_count": 86,
   "metadata": {},
   "outputs": [
    {
     "name": "stdout",
     "output_type": "stream",
     "text": [
      "         Name                 Email\n",
      "0  JOHN SMITH  john.smith@gmail.com\n",
      "1    JANE DOE        jdoe@yahoo.com\n",
      "2   JOE SCHMO  joeschmo@hotmail.com\n"
     ]
    }
   ],
   "source": [
    "df = pd.DataFrame([\n",
    "  ['JOHN SMITH', 'john.smith@gmail.com'],\n",
    "  ['Jane Doe', 'jdoe@yahoo.com'],\n",
    "  ['joe schmo', 'joeschmo@hotmail.com']\n",
    "],\n",
    "columns=['Name', 'Email'])\n",
    "\n",
    "df['Name'] = df.Name.apply(str.upper)\n",
    "print(df)\n",
    "#df[\"Lowercase Name\"] = df.Name.apply(str.lower)\n",
    "#print(df)"
   ]
  },
  {
   "cell_type": "markdown",
   "metadata": {},
   "source": [
    "### 5. Aplicando um Lambda a uma coluna\n",
    "\n",
    "Funções lambda para realizar operações complexas em colunas."
   ]
  },
  {
   "cell_type": "code",
   "execution_count": 87,
   "metadata": {},
   "outputs": [
    {
     "name": "stdout",
     "output_type": "stream",
     "text": [
      "       id               name  hourly_wage  hours_worked  last_name\n",
      "0   10310      Lauren Durham           19            43     Durham\n",
      "1   18656      Grace Sellers           17            40    Sellers\n",
      "2   61254  Shirley Rasmussen           16            30  Rasmussen\n",
      "3   16886        Brian Rojas           18            47      Rojas\n",
      "4   89010    Samantha Mosley           11            38     Mosley\n",
      "5   87246       Louis Guzman           14            39     Guzman\n",
      "6   20578     Denise Mcclure           15            40    Mcclure\n",
      "7   12869      James Raymond           15            32    Raymond\n",
      "8   53461       Noah Collier           18            35    Collier\n",
      "9   14746    Donna Frederick           20            41  Frederick\n",
      "10  71127       Shirley Beck           14            32       Beck\n",
      "11  92522    Christina Kelly            8            44      Kelly\n",
      "12  22447        Brian Noble           11            39      Noble\n",
      "13  61654          Randy Key           16            38        Key\n",
      "14  16988      Diana Stewart           14            48    Stewart\n",
      "15  68619       Timothy Sosa           14            42       Sosa\n",
      "16  59949      Betty Skinner           11            48    Skinner\n",
      "17  81418      Janet Maxwell           12            38    Maxwell\n",
      "18  27267   Madison Johnston           20            37   Johnston\n",
      "19  19985   Virginia Nichols           13            49    Nichols\n"
     ]
    }
   ],
   "source": [
    "df = pd.read_csv('data/employees.csv')\n",
    "\n",
    "df[\"last_name\"] = df.name.apply(\n",
    "  lambda x: x.split()[-1]\n",
    ")\n",
    "\n",
    "print(df)"
   ]
  },
  {
   "cell_type": "markdown",
   "metadata": {},
   "source": [
    "### 6. Aplicando um Lambda a uma linha\n",
    "\n",
    "Se usarmos **apply** sem especificar uma única coluna e adicionarmos o argumento **axis=1**, a entrada para nossa função lambda será uma linha inteira, não uma coluna. Para acessar valores específicos da linha, usamos a sintaxe **row.column_name** ou **row[‘column_name’]**"
   ]
  },
  {
   "cell_type": "code",
   "execution_count": 88,
   "metadata": {},
   "outputs": [
    {
     "name": "stdout",
     "output_type": "stream",
     "text": [
      "       id               name  hourly_wage  hours_worked  total_earned\n",
      "0   10310      Lauren Durham           19            43         845.5\n",
      "1   18656      Grace Sellers           17            40         680.0\n",
      "2   61254  Shirley Rasmussen           16            30         480.0\n",
      "3   16886        Brian Rojas           18            47         909.0\n",
      "4   89010    Samantha Mosley           11            38         418.0\n",
      "5   87246       Louis Guzman           14            39         546.0\n",
      "6   20578     Denise Mcclure           15            40         600.0\n",
      "7   12869      James Raymond           15            32         480.0\n",
      "8   53461       Noah Collier           18            35         630.0\n",
      "9   14746    Donna Frederick           20            41         830.0\n",
      "10  71127       Shirley Beck           14            32         448.0\n",
      "11  92522    Christina Kelly            8            44         368.0\n",
      "12  22447        Brian Noble           11            39         429.0\n",
      "13  61654          Randy Key           16            38         608.0\n",
      "14  16988      Diana Stewart           14            48         728.0\n",
      "15  68619       Timothy Sosa           14            42         602.0\n",
      "16  59949      Betty Skinner           11            48         572.0\n",
      "17  81418      Janet Maxwell           12            38         456.0\n",
      "18  27267   Madison Johnston           20            37         740.0\n",
      "19  19985   Virginia Nichols           13            49         695.5\n"
     ]
    }
   ],
   "source": [
    "df = pd.read_csv('data/employees.csv')\n",
    "\n",
    "total_earned = lambda row: (row.hourly_wage * 40) + ((row.hourly_wage * 1.5) * (row.hours_worked - 40)) \\\n",
    "    if row.hours_worked > 40 \\\n",
    "    else row.hourly_wage * row.hours_worked\n",
    "  \n",
    "df['total_earned'] = df.apply(total_earned, axis = 1)\n",
    "\n",
    "print(df)"
   ]
  },
  {
   "cell_type": "markdown",
   "metadata": {},
   "source": [
    "### 7. Renomeando Colunas\n",
    "Alterar todos os nomes de colunas de uma vez, definindo a .columnspropriedade para uma lista diferente."
   ]
  },
  {
   "cell_type": "code",
   "execution_count": 89,
   "metadata": {},
   "outputs": [
    {
     "name": "stdout",
     "output_type": "stream",
     "text": [
      "      ID                                      Title Category  Year Released  \\\n",
      "0      1                                     Avatar   action           2009   \n",
      "1      2                             Jurassic World   action           2015   \n",
      "2      3                               The Avengers   action           2012   \n",
      "3      4                            The Dark Knight   action           2008   \n",
      "4      5  Star Wars: Episode I - The Phantom Menace   action           1999   \n",
      "..   ...                                        ...      ...            ...   \n",
      "215  216                                   Hannibal    drama           2001   \n",
      "216  217                        Catch Me If You Can    drama           2002   \n",
      "217  218                                  Big Daddy    drama           1999   \n",
      "218  219                                      Se7en    drama           1995   \n",
      "219  220                                      Seven    drama           1979   \n",
      "\n",
      "     Rating  \n",
      "0       7.9  \n",
      "1       7.3  \n",
      "2       8.1  \n",
      "3       9.0  \n",
      "4       6.6  \n",
      "..      ...  \n",
      "215     6.7  \n",
      "216     8.0  \n",
      "217     6.4  \n",
      "218     8.6  \n",
      "219     6.1  \n",
      "\n",
      "[220 rows x 5 columns]\n"
     ]
    }
   ],
   "source": [
    "df = pd.read_csv('data/imdb.csv')\n",
    "\n",
    "df.columns = ['ID', 'Title', 'Category', 'Year Released', 'Rating']\n",
    "print(df)"
   ]
  },
  {
   "cell_type": "markdown",
   "metadata": {},
   "source": [
    "### 8. Renomendo colunas II\n",
    "\n",
    "Colunas individuais usando o **.rename** método\n",
    "**inplace=True** nos permite editar o DataFrame original"
   ]
  },
  {
   "cell_type": "code",
   "execution_count": 90,
   "metadata": {},
   "outputs": [
    {
     "name": "stdout",
     "output_type": "stream",
     "text": [
      "      id                                movie_title   genre  year  imdb_rating\n",
      "0      1                                     Avatar  action  2009          7.9\n",
      "1      2                             Jurassic World  action  2015          7.3\n",
      "2      3                               The Avengers  action  2012          8.1\n",
      "3      4                            The Dark Knight  action  2008          9.0\n",
      "4      5  Star Wars: Episode I - The Phantom Menace  action  1999          6.6\n",
      "..   ...                                        ...     ...   ...          ...\n",
      "215  216                                   Hannibal   drama  2001          6.7\n",
      "216  217                        Catch Me If You Can   drama  2002          8.0\n",
      "217  218                                  Big Daddy   drama  1999          6.4\n",
      "218  219                                      Se7en   drama  1995          8.6\n",
      "219  220                                      Seven   drama  1979          6.1\n",
      "\n",
      "[220 rows x 5 columns]\n"
     ]
    }
   ],
   "source": [
    "df = pd.read_csv('data/imdb.csv')\n",
    "\n",
    "# Rename columns here\n",
    "df.rename(columns={\n",
    "    \"name\" : \"movie_title\"\n",
    "  },\n",
    "  inplace=True)\n",
    "\n",
    "print(df)"
   ]
  },
  {
   "cell_type": "markdown",
   "metadata": {},
   "source": [
    "### 9. Exemplo"
   ]
  },
  {
   "cell_type": "code",
   "execution_count": 91,
   "metadata": {},
   "outputs": [
    {
     "name": "stdout",
     "output_type": "stream",
     "text": [
      "      id first_name last_name  gender                         email  \\\n",
      "0  54791    Rebecca   Lindsay  female  RebeccaLindsay57@hotmail.com   \n",
      "1  53450      Emily     Joyce  female        EmilyJoyce25@gmail.com   \n",
      "2  91987      Joyce    Waller  female        Joyce.Waller@gmail.com   \n",
      "3  14437     Justin  Erickson    male   Justin.Erickson@outlook.com   \n",
      "4  79357     Andrew     Banks    male              AB4318@gmail.com   \n",
      "\n",
      "      shoe_type shoe_material shoe_color  \n",
      "0         clogs  faux-leather      black  \n",
      "1  ballet flats  faux-leather       navy  \n",
      "2       sandles        fabric      black  \n",
      "3         clogs  faux-leather        red  \n",
      "4         boots       leather      brown  \n",
      "\n",
      "\n",
      "       id  first_name   last_name  gender                         email  \\\n",
      "0   54791     Rebecca     Lindsay  female  RebeccaLindsay57@hotmail.com   \n",
      "1   53450       Emily       Joyce  female        EmilyJoyce25@gmail.com   \n",
      "2   91987       Joyce      Waller  female        Joyce.Waller@gmail.com   \n",
      "3   14437      Justin    Erickson    male   Justin.Erickson@outlook.com   \n",
      "4   79357      Andrew       Banks    male              AB4318@gmail.com   \n",
      "5   52386       Julie       Marsh  female        JulieMarsh59@gmail.com   \n",
      "6   20487      Thomas      Jensen    male              TJ5470@gmail.com   \n",
      "7   76971      Janice       Hicks  female        Janice.Hicks@gmail.com   \n",
      "8   21586     Gabriel      Porter    male     GabrielPorter24@gmail.com   \n",
      "9   62083     Frances      Palmer  female     FrancesPalmer50@gmail.com   \n",
      "10  91629     Jessica        Hale  female       JessicaHale25@gmail.com   \n",
      "11  98602    Lawrence      Parker    male    LawrenceParker44@gmail.com   \n",
      "12  45832       Susan      Dennis  female       SusanDennis58@gmail.com   \n",
      "13  33862       Diane       Ochoa  female              DO2680@gmail.com   \n",
      "14  73431     Rebecca     Charles  female     Rebecca.Charles@gmail.com   \n",
      "15  93889  Jacqueline       Crane  female            JC2072@hotmail.com   \n",
      "16  39888     Vincent  Stephenson    male            VS4753@outlook.com   \n",
      "17  35961         Roy     Tillman    male        RoyTillman20@gmail.com   \n",
      "18  24560      Thomas    Roberson    male     Thomas.Roberson@gmail.com   \n",
      "19  28559      Angela      Newton  female       ANewton1977@outlook.com   \n",
      "\n",
      "       shoe_type shoe_material shoe_color shoe_source           salutation  \n",
      "0          clogs  faux-leather      black       vegan     Dear Ms. Lindsay  \n",
      "1   ballet flats  faux-leather       navy       vegan       Dear Ms. Joyce  \n",
      "2        sandles        fabric      black       vegan      Dear Ms. Waller  \n",
      "3          clogs  faux-leather        red       vegan    Dear Mr. Erickson  \n",
      "4          boots       leather      brown      animal       Dear Mr. Banks  \n",
      "5        sandles        fabric      black       vegan       Dear Ms. Marsh  \n",
      "6          clogs        fabric       navy       vegan      Dear Mr. Jensen  \n",
      "7          clogs  faux-leather       navy       vegan       Dear Ms. Hicks  \n",
      "8          clogs       leather      brown      animal      Dear Mr. Porter  \n",
      "9         wedges       leather      white      animal      Dear Ms. Palmer  \n",
      "10         clogs       leather        red      animal        Dear Ms. Hale  \n",
      "11        wedges        fabric      brown       vegan      Dear Mr. Parker  \n",
      "12  ballet flats        fabric      white       vegan      Dear Ms. Dennis  \n",
      "13       sandles        fabric        red       vegan       Dear Ms. Ochoa  \n",
      "14         boots  faux-leather      white       vegan     Dear Ms. Charles  \n",
      "15        wedges        fabric        red       vegan       Dear Ms. Crane  \n",
      "16         boots       leather      black      animal  Dear Mr. Stephenson  \n",
      "17         boots       leather      white      animal     Dear Mr. Tillman  \n",
      "18        wedges        fabric        red       vegan    Dear Mr. Roberson  \n",
      "19        wedges        fabric        red       vegan      Dear Ms. Newton  \n"
     ]
    }
   ],
   "source": [
    "orders = pd.read_csv('data/shoefly.csv')\n",
    "\n",
    "print(f\"{orders.head(5)}\\n\\n\")\n",
    "\n",
    "orders['shoe_source'] = orders.shoe_material.apply(lambda x: 'animal' if x == 'leather' else 'vegan')\n",
    "                        \n",
    "orders['salutation'] = orders.apply(lambda row: \n",
    "                                    'Dear Mr. ' + row['last_name']\n",
    "                                    if row['gender'] == 'male'\n",
    "                                    else 'Dear Ms. ' + row['last_name'],\n",
    "                                    axis=1)\n",
    "\n",
    "print(orders)"
   ]
  },
  {
   "cell_type": "markdown",
   "metadata": {},
   "source": [
    "# 🐼 Pandas - Agregados"
   ]
  },
  {
   "cell_type": "markdown",
   "metadata": {},
   "source": []
  },
  {
   "cell_type": "markdown",
   "metadata": {},
   "source": [
    "### 1. Calculando estatísticas de coluna\n",
    "`df.column_name.command()`\n",
    "\n",
    "A tabela a seguir resume alguns comandos comuns:\n",
    "\n",
    "| Comando  | Descrição                                      |\n",
    "|----------|------------------------------------------------|\n",
    "| mean     | Média de todos os valores na coluna            |\n",
    "| std      | Desvio padrão                                  |\n",
    "| median   | Mediana                                        |\n",
    "| max      | Valor máximo na coluna                         |\n",
    "| min      | Valor mínimo na coluna                         |\n",
    "| count    | Número de valores na coluna                    |\n",
    "| nunique  | Número de valores exclusivos na coluna         |\n",
    "| unique   | Lista de valores exclusivos na coluna          |\n"
   ]
  },
  {
   "cell_type": "code",
   "execution_count": 92,
   "metadata": {},
   "outputs": [
    {
     "name": "stdout",
     "output_type": "stream",
     "text": [
      "      id first_name    last_name                         email     shoe_type  \\\n",
      "0  41874       Kyle         Peck          KylePeck71@gmail.com  ballet flats   \n",
      "1  31349  Elizabeth    Velazquez      EVelazquez1971@gmail.com         boots   \n",
      "2  43416      Keith     Saunders              KS4047@gmail.com       sandals   \n",
      "3  56054       Ryan      Sweeney     RyanSweeney14@outlook.com       sandals   \n",
      "4  77402      Donna  Blankenship              DB3807@gmail.com     stilettos   \n",
      "5  97148     Albert       Dillon       Albert.Dillon@gmail.com        wedges   \n",
      "6  19998     Judith       Hewitt      JudithHewitt98@gmail.com     stilettos   \n",
      "7  83290      Kayla       Hardin        Kayla.Hardin@gmail.com     stilettos   \n",
      "8  77867     Steven  Blankenship  Steven.Blankenship@gmail.com        wedges   \n",
      "9  54885      Carol   Mclaughlin              CM3415@gmail.com  ballet flats   \n",
      "\n",
      "  shoe_material shoe_color  price  \n",
      "0  faux-leather      black  385.0  \n",
      "1        fabric      brown  388.0  \n",
      "2       leather       navy  346.0  \n",
      "3        fabric      brown  344.0  \n",
      "4        fabric      brown  289.0  \n",
      "5        fabric      brown  266.0  \n",
      "6       leather      black  395.0  \n",
      "7       leather      white  241.0  \n",
      "8       leather       navy  266.0  \n",
      "9  faux-leather      brown  440.0  \n",
      "493.0\n",
      "5\n"
     ]
    }
   ],
   "source": [
    "orders = pd.read_csv('data/orders.csv')\n",
    "print(orders.head(10))\n",
    "\n",
    "most_expensive = orders.price.max()\n",
    "print(most_expensive)\n",
    "\n",
    "num_colors = orders.shoe_color.nunique()\n",
    "print(num_colors)"
   ]
  },
  {
   "cell_type": "markdown",
   "metadata": {},
   "source": [
    "### 2. Calculando Funções Agregadas I\n",
    "Quando temos muitos dados, muitas vezes queremos calcular estatísticas agregadas (média, desvio padrão, mediana, \n",
    "percentis, etc.) sobre determinados subconjuntos de dados\n",
    "\n",
    "`df.groupby('column1').column2.measurement()`\n",
    "\n",
    "- `column1` é a coluna pela qual queremos agrupar \n",
    "- `column2` é a coluna na qual queremos realizar uma medição\n",
    "- `measurement` é a função de medição que queremos aplicar "
   ]
  },
  {
   "cell_type": "code",
   "execution_count": 93,
   "metadata": {},
   "outputs": [
    {
     "name": "stdout",
     "output_type": "stream",
     "text": [
      "shoe_type\n",
      "ballet flats    481.0\n",
      "boots           478.0\n",
      "clogs           493.0\n",
      "sandals         456.0\n",
      "stilettos       487.0\n",
      "wedges          461.0\n",
      "Name: price, dtype: float64\n",
      "<class 'pandas.core.series.Series'>\n"
     ]
    }
   ],
   "source": [
    "orders = pd.read_csv('data/orders.csv')\n",
    "\n",
    "pricey_shoes = orders.groupby(\"shoe_type\").price.max()\n",
    "\n",
    "print(pricey_shoes)\n",
    "print(type(pricey_shoes)) # cria uma nova serie"
   ]
  },
  {
   "cell_type": "markdown",
   "metadata": {},
   "source": [
    "### 3. Calculando Funções Agregadas II\n",
    "Depois de usar groupby, muitas vezes precisamos limpar nossos dados resultantes.\n",
    "\n",
    "Normalmente, preferiríamos que esses índices fossem na verdade uma coluna. Para conseguir isso, podemos usar \n",
    "`reset_index()`. Isso transformará nossa série em um DataFrame e moverá os índices para suas próprias colunas.\n",
    "\n",
    "`df.groupby('column1').column2.measurement()\n",
    "    .reset_index()`\n"
   ]
  },
  {
   "cell_type": "code",
   "execution_count": 94,
   "metadata": {},
   "outputs": [
    {
     "name": "stdout",
     "output_type": "stream",
     "text": [
      "      shoe_type  price\n",
      "0  ballet flats  481.0\n",
      "1         boots  478.0\n",
      "2         clogs  493.0\n",
      "3       sandals  456.0\n",
      "4     stilettos  487.0\n",
      "5        wedges  461.0\n",
      "<class 'pandas.core.frame.DataFrame'>\n"
     ]
    }
   ],
   "source": [
    "orders = pd.read_csv('data/orders.csv')\n",
    "\n",
    "pricey_shoes = orders.groupby('shoe_type').price.max() \\\n",
    ".reset_index()\n",
    "\n",
    "print(pricey_shoes)\n",
    "print(type(pricey_shoes))\n",
    "\n",
    "# nota: podemos renomear nome da coluna\n",
    "# orders_price = orders.rename(columns={\"price\": \"R$\"})"
   ]
  },
  {
   "cell_type": "markdown",
   "metadata": {},
   "source": [
    "### 4. Calculando Funções Agregadas III\n",
    "Às vezes, a operação que você deseja realizar é mais complicada que meanou count. Nesses casos, você pode usar o `apply`\n",
    "método e as funções lambda, assim como fizemos para operações de colunas individuais."
   ]
  },
  {
   "cell_type": "code",
   "execution_count": 95,
   "metadata": {},
   "outputs": [
    {
     "name": "stdout",
     "output_type": "stream",
     "text": [
      "  shoe_color  price\n",
      "0      black    NaN\n",
      "1      brown  193.5\n",
      "2       navy  205.5\n",
      "3        red  250.0\n",
      "4      white  196.0\n"
     ]
    }
   ],
   "source": [
    "import numpy as np\n",
    "\n",
    "orders = pd.read_csv('data/orders.csv')\n",
    "\n",
    "cheap_shoes = orders.groupby(\"shoe_color\").price \\\n",
    ".apply(lambda x: np.percentile(x, 25)) \\\n",
    ".reset_index()\n",
    "\n",
    "print(cheap_shoes)"
   ]
  },
  {
   "cell_type": "markdown",
   "metadata": {},
   "source": [
    "### 5. Calculando Funções Agregadas IV\n",
    "Agrupar por mais de uma coluna, passando uma lista de nomes de colunas para o `groupby` método."
   ]
  },
  {
   "cell_type": "code",
   "execution_count": 96,
   "metadata": {},
   "outputs": [
    {
     "name": "stdout",
     "output_type": "stream",
     "text": [
      "       shoe_type shoe_color  id\n",
      "0   ballet flats      black   2\n",
      "1   ballet flats      brown   5\n",
      "2   ballet flats        red   3\n",
      "3   ballet flats      white   5\n",
      "4          boots      black   3\n",
      "5          boots      brown   5\n",
      "6          boots       navy   6\n",
      "7          boots        red   2\n",
      "8          boots      white   3\n",
      "9          clogs      black   4\n",
      "10         clogs      brown   6\n",
      "11         clogs       navy   1\n",
      "12         clogs        red   4\n",
      "13         clogs      white   1\n",
      "14       sandals      black   1\n",
      "15       sandals      brown   4\n",
      "16       sandals       navy   5\n",
      "17       sandals        red   3\n",
      "18       sandals      white   4\n",
      "19     stilettos      black   5\n",
      "20     stilettos      brown   3\n",
      "21     stilettos       navy   2\n",
      "22     stilettos        red   2\n",
      "23     stilettos      white   2\n",
      "24        wedges      black   3\n",
      "25        wedges      brown   4\n",
      "26        wedges       navy   4\n",
      "27        wedges        red   5\n",
      "28        wedges      white   2\n"
     ]
    }
   ],
   "source": [
    "orders = pd.read_csv('data/orders.csv')\n",
    "\n",
    "shoe_counts = orders.groupby(['shoe_type', 'shoe_color']).id.count() \\\n",
    ".reset_index()\n",
    "\n",
    "# nota: orders.rename(colums=(\"id\" : \"quantidade\"))\n",
    "print(shoe_counts)"
   ]
  },
  {
   "cell_type": "markdown",
   "metadata": {},
   "source": [
    "### 6. Tabelas dinamicas\n",
    "Reorganizar uma tabela para processamento ou resumo de dados é chamado de pivotamento. A nova tabela é chamada de tabela\n",
    "dinâmica.\n",
    "\n",
    "- `pivot()` e `pivot_table()`: Agrupar valores únicos dentro de uma ou mais categorias discretas.\n",
    "\n",
    "`df.pivot(columns='ColumnToPivot',\n",
    "         index='ColumnToBeRows',\n",
    "         values='ColumnToBeValues')`"
   ]
  },
  {
   "cell_type": "code",
   "execution_count": 97,
   "metadata": {},
   "outputs": [
    {
     "name": "stdout",
     "output_type": "stream",
     "text": [
      "shoe_color     shoe_type  black  brown  navy  red  white\n",
      "0           ballet flats    2.0    5.0   NaN  3.0    5.0\n",
      "1                  boots    3.0    5.0   6.0  2.0    3.0\n",
      "2                  clogs    4.0    6.0   1.0  4.0    1.0\n",
      "3                sandals    1.0    4.0   5.0  3.0    4.0\n",
      "4              stilettos    5.0    3.0   2.0  2.0    2.0\n",
      "5                 wedges    3.0    4.0   4.0  5.0    2.0\n"
     ]
    }
   ],
   "source": [
    "orders = pd.read_csv('data/orders.csv')\n",
    "\n",
    "shoe_counts = orders.groupby(['shoe_type', 'shoe_color']).id.count().reset_index()\n",
    "\n",
    "shoe_counts_pivot = shoe_counts.pivot(\n",
    "  columns = 'shoe_color',\n",
    "  index = 'shoe_type',\n",
    "  values = 'id').reset_index()\n",
    "\n",
    "print(shoe_counts_pivot)"
   ]
  },
  {
   "cell_type": "markdown",
   "metadata": {},
   "source": [
    "# 🐼 Pandas - Multiplas Tabelas"
   ]
  },
  {
   "cell_type": "markdown",
   "metadata": {},
   "source": [
    "### 1. Mesclagem Interna I\n",
    "\n",
    "Vamos examinar a ordem com um `order_id` em 1. Foi adquirido pelo Cliente 2. Para saber o nome do cliente, olhamos a \n",
    "`customers` tabela e procuramos o item com `customer_id` valor de 2. Podemos ver que o nome do Cliente 2 é Jane Doe \n",
    "e que ela mora em 456 Park Ave.\n",
    "\n",
    "Fazer esse tipo de correspondência é chamado de **mesclar** dois DataFrames"
   ]
  },
  {
   "cell_type": "code",
   "execution_count": 98,
   "metadata": {},
   "outputs": [
    {
     "name": "stdout",
     "output_type": "stream",
     "text": [
      "   order_id  customer_id  product_id  quantity   timestamp\n",
      "0         1            2           3         1  2017-01-01\n",
      "1         2            2           2         3  2017-01-01\n",
      "2         3            3           1         1  2017-01-01\n",
      "3         4            3           2         2  2017-02-01\n",
      "4         5            3           3         3  2017-02-01\n",
      "5         6            1           4         2  2017-03-01\n",
      "6         7            1           1         1  2017-02-02\n",
      "7         8            1           4         1  2017-02-02\n",
      "   product_id         description  price\n",
      "0           1      thing-a-ma-jig      5\n",
      "1           2  whatcha-ma-call-it     10\n",
      "2           3          doo-hickey      7\n",
      "3           4               gizmo      3\n",
      "   customer_id customer_name        address  phone_number\n",
      "0            1    John Smith   123 Main St.  212-123-4567\n",
      "1            2      Jane Doe  456 Park Ave.  949-867-5309\n",
      "2            3     Joe Schmo   798 Broadway  112-358-1321\n"
     ]
    },
    {
     "data": {
      "text/plain": [
       "'\\norder_3_description = \"thing-a-ma-jig\"\\norder_5_phone_number = \"112-358-1321\"\\n'"
      ]
     },
     "execution_count": 98,
     "metadata": {},
     "output_type": "execute_result"
    }
   ],
   "source": [
    "orders = pd.read_csv('data/orders2.csv')\n",
    "products = pd.read_csv('data/products.csv')\n",
    "customers = pd.read_csv('data/customers.csv')\n",
    "\n",
    "print(orders)\n",
    "print(products)\n",
    "print(customers)\n",
    "\n",
    "\"\"\"\n",
    "order_3_description = \"thing-a-ma-jig\"\n",
    "order_5_phone_number = \"112-358-1321\"\n",
    "\"\"\""
   ]
  },
  {
   "cell_type": "markdown",
   "metadata": {},
   "source": [
    "### 2. Mescalgem Interna II"
   ]
  },
  {
   "cell_type": "markdown",
   "metadata": {},
   "source": [
    "O `.merge()` método procura colunas que são comuns entre dois DataFrames e, em seguida, procura linhas onde os valores \n",
    "dessas colunas são iguais. Em seguida, combina as linhas correspondentes em uma única linha em uma nova tabela."
   ]
  },
  {
   "cell_type": "code",
   "execution_count": 99,
   "metadata": {},
   "outputs": [
    {
     "name": "stdout",
     "output_type": "stream",
     "text": [
      "      month  revenue\n",
      "0   January      300\n",
      "1  February      290\n",
      "2     March      310\n",
      "3     April      325\n",
      "4       May      475\n",
      "5      June      495\n",
      "      month  target\n",
      "0   January     310\n",
      "1  February     270\n",
      "2     March     300\n",
      "3     April     350\n",
      "4       May     475\n",
      "5      June     500\n",
      "      month  revenue  target\n",
      "0   January      300     310\n",
      "1  February      290     270\n",
      "2     March      310     300\n",
      "3     April      325     350\n",
      "4       May      475     475\n",
      "5      June      495     500\n"
     ]
    }
   ],
   "source": [
    "sales = pd.read_csv('data/sales.csv')\n",
    "print(sales)\n",
    "targets = pd.read_csv('data/targets.csv')\n",
    "print(targets)\n",
    "\n",
    "sales_vs_targets = pd.merge(sales, targets)\n",
    "\n",
    "print(sales_vs_targets)\n",
    "\n",
    "crushing_it = sales_vs_targets[sales_vs_targets.revenue > sales_vs_targets.target]"
   ]
  },
  {
   "cell_type": "markdown",
   "metadata": {},
   "source": [
    "### 3. Mesclagem Interna III"
   ]
  },
  {
   "cell_type": "markdown",
   "metadata": {},
   "source": [
    "Além de usar `pd.merge()`, cada DataFrame possui seu próprio `.merge()` método. Por exemplo, se você quiser mesclar `orders` com `customers`, você pode usar:\n",
    "\n",
    "```python \n",
    "new_df = orders.merge(customers)\n",
    "\n",
    "```\n",
    "\n",
    "Isso produz o mesmo DataFrame como se tivéssemos chamado `pd.merge(orders, customers)`.\n",
    "\n",
    "Geralmente usamos isso quando juntamos mais de dois DataFrames porque podemos “encadear” os comandos. O comando a seguir seria mesclado` order` se `customers`, em seguida, o DataFrame resultante para `products`:\n",
    "\n",
    "```python \n",
    "big_df = orders.merge(customers)\\\n",
    "    .merge(products)\n",
    "```"
   ]
  },
  {
   "cell_type": "code",
   "execution_count": 100,
   "metadata": {},
   "outputs": [
    {
     "name": "stdout",
     "output_type": "stream",
     "text": [
      "      month  revenue  target  men  women\n",
      "0   January      300     310   30     35\n",
      "1  February      290     270   29     35\n",
      "2     March      310     300   31     29\n",
      "3     April      325     350   32     28\n",
      "4       May      475     475   47     50\n",
      "5      June      495     500   49     45\n",
      "      month  revenue  target  men  women\n",
      "1  February      290     270   29     35\n"
     ]
    }
   ],
   "source": [
    "sales = pd.read_csv('data/sales.csv')\n",
    "targets = pd.read_csv('data/targets.csv')\n",
    "men_women = pd.read_csv('data/men_women_sales.csv')\n",
    "\n",
    "all_data = sales.merge(targets)\\\n",
    "\t.merge(men_women)\n",
    "print(all_data)\n",
    "\n",
    "results = all_data[(all_data.revenue > all_data.target) & (all_data.women > all_data.men)]\n",
    "print(results)\n"
   ]
  },
  {
   "attachments": {
    "image-2.png": {
     "image/png": "[encoded data removed]"
    }
   },
   "cell_type": "markdown",
   "metadata": {},
   "source": [
    "### 4. Mesclar em colunas específicas\n",
    "![image-2.png](attachment:image-2.png)\n",
    "\n",
    "Como as `id` colunas significariam algo diferente em cada tabela, nossas mesclagens padrão estariam erradas.\n",
    "\n",
    "Uma maneira de resolver esse problema é `.rename()` renomear as colunas para nossas mesclagens. No exemplo abaixo, vamos renomear a coluna `id` para `customer_id`, para que `orders` tenhamos `customers` uma coluna comum para a mesclagem.\n",
    "\n",
    "```python\n",
    "pd.merge(\n",
    "    orders,\n",
    "    customers.rename(columns={'id': 'customer_id'}))\n",
    "```\n"
   ]
  },
  {
   "cell_type": "code",
   "execution_count": 101,
   "metadata": {},
   "outputs": [
    {
     "name": "stdout",
     "output_type": "stream",
     "text": [
      "       id first_name    last_name                      email     shoe_type  \\\n",
      "0   41874       Kyle         Peck       KylePeck71@gmail.com  ballet flats   \n",
      "1   31349  Elizabeth    Velazquez   EVelazquez1971@gmail.com         boots   \n",
      "2   43416      Keith     Saunders           KS4047@gmail.com       sandals   \n",
      "3   56054       Ryan      Sweeney  RyanSweeney14@outlook.com       sandals   \n",
      "4   77402      Donna  Blankenship           DB3807@gmail.com     stilettos   \n",
      "..    ...        ...          ...                        ...           ...   \n",
      "94  21506      Scott       Deleon     Scott.Deleon@gmail.com     stilettos   \n",
      "95  77266    Zachary      Gregory  Zachary.Gregory@gmail.com       sandals   \n",
      "96  67264   Danielle      Merrill     DMerrill1998@gmail.com        wedges   \n",
      "97  19100   Danielle       Barron      DBarron1982@gmail.com       sandals   \n",
      "98  26210    Marilyn        Finch   MarilynFinch92@gmail.com       sandals   \n",
      "\n",
      "   shoe_material shoe_color  price  \n",
      "0   faux-leather      black  385.0  \n",
      "1         fabric      brown  388.0  \n",
      "2        leather       navy  346.0  \n",
      "3         fabric      brown  344.0  \n",
      "4         fabric      brown  289.0  \n",
      "..           ...        ...    ...  \n",
      "94        fabric      black  374.0  \n",
      "95       leather        red  216.0  \n",
      "96  faux-leather        red  461.0  \n",
      "97       leather      white  313.0  \n",
      "98       leather      black    NaN  \n",
      "\n",
      "[99 rows x 8 columns]\n",
      "   product_id         description  price\n",
      "0           1      thing-a-ma-jig      5\n",
      "1           2  whatcha-ma-call-it     10\n",
      "2           3          doo-hickey      7\n",
      "3           4               gizmo      3\n",
      "Empty DataFrame\n",
      "Columns: [id, first_name, last_name, email, shoe_type, shoe_material, shoe_color, price, product_id, description]\n",
      "Index: []\n"
     ]
    }
   ],
   "source": [
    "orders = pd.read_csv('data/orders.csv')\n",
    "print(orders)\n",
    "products = pd.read_csv('data/products.csv')\n",
    "print(products)\n",
    "\n",
    "orders_products = pd.merge(\n",
    "    orders,\n",
    "    products.rename(columns={'id': 'product_id'})\n",
    ")\n",
    "\n",
    "print(orders_products)"
   ]
  },
  {
   "cell_type": "markdown",
   "metadata": {},
   "source": [
    "### 5. Mesclar em colunas específicas II\n",
    "\n",
    "As palavras-chave `left_one` e `right_on` para especificar em quais colunas queremos realizar a mesclagem"
   ]
  },
  {
   "cell_type": "code",
   "execution_count": 102,
   "metadata": {},
   "outputs": [
    {
     "ename": "KeyError",
     "evalue": "'id'",
     "output_type": "error",
     "traceback": [
      "\u001b[1;31m---------------------------------------------------------------------------\u001b[0m",
      "\u001b[1;31mKeyError\u001b[0m                                  Traceback (most recent call last)",
      "\u001b[1;32m~\\AppData\\Local\\Temp\\ipykernel_4480\\1285350247.py\u001b[0m in \u001b[0;36m?\u001b[1;34m()\u001b[0m\n\u001b[0;32m      1\u001b[0m \u001b[0morders\u001b[0m \u001b[1;33m=\u001b[0m \u001b[0mpd\u001b[0m\u001b[1;33m.\u001b[0m\u001b[0mread_csv\u001b[0m\u001b[1;33m(\u001b[0m\u001b[1;34m'data/orders.csv'\u001b[0m\u001b[1;33m)\u001b[0m\u001b[1;33m\u001b[0m\u001b[1;33m\u001b[0m\u001b[0m\n\u001b[0;32m      2\u001b[0m \u001b[0mproducts\u001b[0m \u001b[1;33m=\u001b[0m \u001b[0mpd\u001b[0m\u001b[1;33m.\u001b[0m\u001b[0mread_csv\u001b[0m\u001b[1;33m(\u001b[0m\u001b[1;34m'data/products.csv'\u001b[0m\u001b[1;33m)\u001b[0m\u001b[1;33m\u001b[0m\u001b[1;33m\u001b[0m\u001b[0m\n\u001b[0;32m      3\u001b[0m \u001b[1;33m\u001b[0m\u001b[0m\n\u001b[1;32m----> 4\u001b[1;33m orders_products = pd.merge(\n\u001b[0m\u001b[0;32m      5\u001b[0m         \u001b[0morders\u001b[0m\u001b[1;33m,\u001b[0m\u001b[1;33m\u001b[0m\u001b[1;33m\u001b[0m\u001b[0m\n\u001b[0;32m      6\u001b[0m         \u001b[0mproducts\u001b[0m\u001b[1;33m,\u001b[0m\u001b[1;33m\u001b[0m\u001b[1;33m\u001b[0m\u001b[0m\n\u001b[0;32m      7\u001b[0m         \u001b[0mleft_on\u001b[0m \u001b[1;33m=\u001b[0m \u001b[1;34m'product_id'\u001b[0m\u001b[1;33m,\u001b[0m\u001b[1;33m\u001b[0m\u001b[1;33m\u001b[0m\u001b[0m\n",
      "\u001b[1;32mc:\\Users\\vitor\\AppData\\Local\\Programs\\Python\\Python312\\Lib\\site-packages\\pandas\\core\\reshape\\merge.py\u001b[0m in \u001b[0;36m?\u001b[1;34m(left, right, how, on, left_on, right_on, left_index, right_index, sort, suffixes, copy, indicator, validate)\u001b[0m\n\u001b[0;32m    166\u001b[0m             \u001b[0mvalidate\u001b[0m\u001b[1;33m=\u001b[0m\u001b[0mvalidate\u001b[0m\u001b[1;33m,\u001b[0m\u001b[1;33m\u001b[0m\u001b[1;33m\u001b[0m\u001b[0m\n\u001b[0;32m    167\u001b[0m             \u001b[0mcopy\u001b[0m\u001b[1;33m=\u001b[0m\u001b[0mcopy\u001b[0m\u001b[1;33m,\u001b[0m\u001b[1;33m\u001b[0m\u001b[1;33m\u001b[0m\u001b[0m\n\u001b[0;32m    168\u001b[0m         \u001b[1;33m)\u001b[0m\u001b[1;33m\u001b[0m\u001b[1;33m\u001b[0m\u001b[0m\n\u001b[0;32m    169\u001b[0m     \u001b[1;32melse\u001b[0m\u001b[1;33m:\u001b[0m\u001b[1;33m\u001b[0m\u001b[1;33m\u001b[0m\u001b[0m\n\u001b[1;32m--> 170\u001b[1;33m         op = _MergeOperation(\n\u001b[0m\u001b[0;32m    171\u001b[0m             \u001b[0mleft_df\u001b[0m\u001b[1;33m,\u001b[0m\u001b[1;33m\u001b[0m\u001b[1;33m\u001b[0m\u001b[0m\n\u001b[0;32m    172\u001b[0m             \u001b[0mright_df\u001b[0m\u001b[1;33m,\u001b[0m\u001b[1;33m\u001b[0m\u001b[1;33m\u001b[0m\u001b[0m\n\u001b[0;32m    173\u001b[0m             \u001b[0mhow\u001b[0m\u001b[1;33m=\u001b[0m\u001b[0mhow\u001b[0m\u001b[1;33m,\u001b[0m\u001b[1;33m\u001b[0m\u001b[1;33m\u001b[0m\u001b[0m\n",
      "\u001b[1;32mc:\\Users\\vitor\\AppData\\Local\\Programs\\Python\\Python312\\Lib\\site-packages\\pandas\\core\\reshape\\merge.py\u001b[0m in \u001b[0;36m?\u001b[1;34m(self, left, right, how, on, left_on, right_on, left_index, right_index, sort, suffixes, indicator, validate)\u001b[0m\n\u001b[0;32m    790\u001b[0m             \u001b[0mself\u001b[0m\u001b[1;33m.\u001b[0m\u001b[0mright_join_keys\u001b[0m\u001b[1;33m,\u001b[0m\u001b[1;33m\u001b[0m\u001b[1;33m\u001b[0m\u001b[0m\n\u001b[0;32m    791\u001b[0m             \u001b[0mself\u001b[0m\u001b[1;33m.\u001b[0m\u001b[0mjoin_names\u001b[0m\u001b[1;33m,\u001b[0m\u001b[1;33m\u001b[0m\u001b[1;33m\u001b[0m\u001b[0m\n\u001b[0;32m    792\u001b[0m             \u001b[0mleft_drop\u001b[0m\u001b[1;33m,\u001b[0m\u001b[1;33m\u001b[0m\u001b[1;33m\u001b[0m\u001b[0m\n\u001b[0;32m    793\u001b[0m             \u001b[0mright_drop\u001b[0m\u001b[1;33m,\u001b[0m\u001b[1;33m\u001b[0m\u001b[1;33m\u001b[0m\u001b[0m\n\u001b[1;32m--> 794\u001b[1;33m         \u001b[1;33m)\u001b[0m \u001b[1;33m=\u001b[0m \u001b[0mself\u001b[0m\u001b[1;33m.\u001b[0m\u001b[0m_get_merge_keys\u001b[0m\u001b[1;33m(\u001b[0m\u001b[1;33m)\u001b[0m\u001b[1;33m\u001b[0m\u001b[1;33m\u001b[0m\u001b[0m\n\u001b[0m\u001b[0;32m    795\u001b[0m \u001b[1;33m\u001b[0m\u001b[0m\n\u001b[0;32m    796\u001b[0m         \u001b[1;32mif\u001b[0m \u001b[0mleft_drop\u001b[0m\u001b[1;33m:\u001b[0m\u001b[1;33m\u001b[0m\u001b[1;33m\u001b[0m\u001b[0m\n\u001b[0;32m    797\u001b[0m             \u001b[0mself\u001b[0m\u001b[1;33m.\u001b[0m\u001b[0mleft\u001b[0m \u001b[1;33m=\u001b[0m \u001b[0mself\u001b[0m\u001b[1;33m.\u001b[0m\u001b[0mleft\u001b[0m\u001b[1;33m.\u001b[0m\u001b[0m_drop_labels_or_levels\u001b[0m\u001b[1;33m(\u001b[0m\u001b[0mleft_drop\u001b[0m\u001b[1;33m)\u001b[0m\u001b[1;33m\u001b[0m\u001b[1;33m\u001b[0m\u001b[0m\n",
      "\u001b[1;32mc:\\Users\\vitor\\AppData\\Local\\Programs\\Python\\Python312\\Lib\\site-packages\\pandas\\core\\reshape\\merge.py\u001b[0m in \u001b[0;36m?\u001b[1;34m(self)\u001b[0m\n\u001b[0;32m   1293\u001b[0m                         \u001b[1;31m# Then we're either Hashable or a wrong-length arraylike,\u001b[0m\u001b[1;33m\u001b[0m\u001b[1;33m\u001b[0m\u001b[0m\n\u001b[0;32m   1294\u001b[0m                         \u001b[1;31m#  the latter of which will raise\u001b[0m\u001b[1;33m\u001b[0m\u001b[1;33m\u001b[0m\u001b[0m\n\u001b[0;32m   1295\u001b[0m                         \u001b[0mrk\u001b[0m \u001b[1;33m=\u001b[0m \u001b[0mcast\u001b[0m\u001b[1;33m(\u001b[0m\u001b[0mHashable\u001b[0m\u001b[1;33m,\u001b[0m \u001b[0mrk\u001b[0m\u001b[1;33m)\u001b[0m\u001b[1;33m\u001b[0m\u001b[1;33m\u001b[0m\u001b[0m\n\u001b[0;32m   1296\u001b[0m                         \u001b[1;32mif\u001b[0m \u001b[0mrk\u001b[0m \u001b[1;32mis\u001b[0m \u001b[1;32mnot\u001b[0m \u001b[1;32mNone\u001b[0m\u001b[1;33m:\u001b[0m\u001b[1;33m\u001b[0m\u001b[1;33m\u001b[0m\u001b[0m\n\u001b[1;32m-> 1297\u001b[1;33m                             \u001b[0mright_keys\u001b[0m\u001b[1;33m.\u001b[0m\u001b[0mappend\u001b[0m\u001b[1;33m(\u001b[0m\u001b[0mright\u001b[0m\u001b[1;33m.\u001b[0m\u001b[0m_get_label_or_level_values\u001b[0m\u001b[1;33m(\u001b[0m\u001b[0mrk\u001b[0m\u001b[1;33m)\u001b[0m\u001b[1;33m)\u001b[0m\u001b[1;33m\u001b[0m\u001b[1;33m\u001b[0m\u001b[0m\n\u001b[0m\u001b[0;32m   1298\u001b[0m                         \u001b[1;32melse\u001b[0m\u001b[1;33m:\u001b[0m\u001b[1;33m\u001b[0m\u001b[1;33m\u001b[0m\u001b[0m\n\u001b[0;32m   1299\u001b[0m                             \u001b[1;31m# work-around for merge_asof(right_index=True)\u001b[0m\u001b[1;33m\u001b[0m\u001b[1;33m\u001b[0m\u001b[0m\n\u001b[0;32m   1300\u001b[0m                             \u001b[0mright_keys\u001b[0m\u001b[1;33m.\u001b[0m\u001b[0mappend\u001b[0m\u001b[1;33m(\u001b[0m\u001b[0mright\u001b[0m\u001b[1;33m.\u001b[0m\u001b[0mindex\u001b[0m\u001b[1;33m.\u001b[0m\u001b[0m_values\u001b[0m\u001b[1;33m)\u001b[0m\u001b[1;33m\u001b[0m\u001b[1;33m\u001b[0m\u001b[0m\n",
      "\u001b[1;32mc:\\Users\\vitor\\AppData\\Local\\Programs\\Python\\Python312\\Lib\\site-packages\\pandas\\core\\generic.py\u001b[0m in \u001b[0;36m?\u001b[1;34m(self, key, axis)\u001b[0m\n\u001b[0;32m   1907\u001b[0m             \u001b[0mvalues\u001b[0m \u001b[1;33m=\u001b[0m \u001b[0mself\u001b[0m\u001b[1;33m.\u001b[0m\u001b[0mxs\u001b[0m\u001b[1;33m(\u001b[0m\u001b[0mkey\u001b[0m\u001b[1;33m,\u001b[0m \u001b[0maxis\u001b[0m\u001b[1;33m=\u001b[0m\u001b[0mother_axes\u001b[0m\u001b[1;33m[\u001b[0m\u001b[1;36m0\u001b[0m\u001b[1;33m]\u001b[0m\u001b[1;33m)\u001b[0m\u001b[1;33m.\u001b[0m\u001b[0m_values\u001b[0m\u001b[1;33m\u001b[0m\u001b[1;33m\u001b[0m\u001b[0m\n\u001b[0;32m   1908\u001b[0m         \u001b[1;32melif\u001b[0m \u001b[0mself\u001b[0m\u001b[1;33m.\u001b[0m\u001b[0m_is_level_reference\u001b[0m\u001b[1;33m(\u001b[0m\u001b[0mkey\u001b[0m\u001b[1;33m,\u001b[0m \u001b[0maxis\u001b[0m\u001b[1;33m=\u001b[0m\u001b[0maxis\u001b[0m\u001b[1;33m)\u001b[0m\u001b[1;33m:\u001b[0m\u001b[1;33m\u001b[0m\u001b[1;33m\u001b[0m\u001b[0m\n\u001b[0;32m   1909\u001b[0m             \u001b[0mvalues\u001b[0m \u001b[1;33m=\u001b[0m \u001b[0mself\u001b[0m\u001b[1;33m.\u001b[0m\u001b[0maxes\u001b[0m\u001b[1;33m[\u001b[0m\u001b[0maxis\u001b[0m\u001b[1;33m]\u001b[0m\u001b[1;33m.\u001b[0m\u001b[0mget_level_values\u001b[0m\u001b[1;33m(\u001b[0m\u001b[0mkey\u001b[0m\u001b[1;33m)\u001b[0m\u001b[1;33m.\u001b[0m\u001b[0m_values\u001b[0m\u001b[1;33m\u001b[0m\u001b[1;33m\u001b[0m\u001b[0m\n\u001b[0;32m   1910\u001b[0m         \u001b[1;32melse\u001b[0m\u001b[1;33m:\u001b[0m\u001b[1;33m\u001b[0m\u001b[1;33m\u001b[0m\u001b[0m\n\u001b[1;32m-> 1911\u001b[1;33m             \u001b[1;32mraise\u001b[0m \u001b[0mKeyError\u001b[0m\u001b[1;33m(\u001b[0m\u001b[0mkey\u001b[0m\u001b[1;33m)\u001b[0m\u001b[1;33m\u001b[0m\u001b[1;33m\u001b[0m\u001b[0m\n\u001b[0m\u001b[0;32m   1912\u001b[0m \u001b[1;33m\u001b[0m\u001b[0m\n\u001b[0;32m   1913\u001b[0m         \u001b[1;31m# Check for duplicates\u001b[0m\u001b[1;33m\u001b[0m\u001b[1;33m\u001b[0m\u001b[0m\n\u001b[0;32m   1914\u001b[0m         \u001b[1;32mif\u001b[0m \u001b[0mvalues\u001b[0m\u001b[1;33m.\u001b[0m\u001b[0mndim\u001b[0m \u001b[1;33m>\u001b[0m \u001b[1;36m1\u001b[0m\u001b[1;33m:\u001b[0m\u001b[1;33m\u001b[0m\u001b[1;33m\u001b[0m\u001b[0m\n",
      "\u001b[1;31mKeyError\u001b[0m: 'id'"
     ]
    }
   ],
   "source": [
    "orders = pd.read_csv('data/orders.csv')\n",
    "products = pd.read_csv('data/products.csv')\n",
    "\n",
    "orders_products = pd.merge(\n",
    "\torders,\n",
    "\tproducts,\n",
    "\tleft_on = 'product_id',\n",
    "\tright_on = 'id',\n",
    "\tsuffixes = ['_orders', '_products']\n",
    ")\n",
    "\n",
    "print(orders_products)"
   ]
  },
  {
   "cell_type": "markdown",
   "metadata": {},
   "source": [
    "### 6. Mesclagem externa\n",
    "Quando fundimos dois DataFrames cujas linhas não correspondem perfeitamente, perdemos as linhas sem correspondência.\n",
    "\n",
    "Este tipo de mesclagem (onde incluímos apenas linhas correspondentes) é chamado de mesclagem interna . Existem outros tipos de mesclagens que podemos usar quando queremos manter as informações das linhas sem correspondência.\n",
    "\n",
    "`Outer Join` - uma junção externa incluiria todas as linhas de ambas as tabelas, mesmo que não correspondessem. Quaisquer valores ausentes são preenchidos com Noneou nan(que significa “Não é um número”)."
   ]
  },
  {
   "cell_type": "code",
   "execution_count": null,
   "metadata": {},
   "outputs": [],
   "source": [
    "store_a = pd.read_csv('data/store_a.csv')\n",
    "print(store_a)\n",
    "store_b = pd.read_csv('data/store_b.csv')\n",
    "print(store_b)\n",
    "\n",
    "store_a_b_outer = pd.merge(store_a, store_b, how='outer')\n",
    "print(store_a_b_outer)"
   ]
  },
  {
   "cell_type": "markdown",
   "metadata": {},
   "source": [
    "### 7. Mesclar esquerda e direita\n",
    "`Right merge`:  Uma mesclagem à esquerda inclui todas as linhas da primeira tabela (esquerda), mas apenas as linhas da segunda tabela (direita) que correspondem à primeira tabela.\n",
    "\n",
    "`Left merge`: A mesclagem à direita é exatamente o oposto da mesclagem à esquerda. Aqui, a tabela mesclada incluirá todas as linhas da segunda tabela (direita), mas apenas as linhas da primeira tabela (esquerda) que correspondam à segunda tabela."
   ]
  },
  {
   "cell_type": "code",
   "execution_count": null,
   "metadata": {},
   "outputs": [],
   "source": [
    "\n",
    "store_a = pd.read_csv('data/store_a.csv')\n",
    "print(store_a)\n",
    "store_b = pd.read_csv('data/store_b.csv')\n",
    "print(store_b)\n",
    "\n",
    "store_a_b_left = pd.merge(store_a, store_b, how='left')\n",
    "store_b_a_right = pd.merge(store_a, store_b, how='right')\n",
    "\n",
    "print(store_a_b_left)\n",
    "print(store_b_a_right)"
   ]
  },
  {
   "cell_type": "markdown",
   "metadata": {},
   "source": [
    "### 8. Concatenar DataFrames\n",
    "Quando precisarmos reconstruir um único DataFrame a partir de vários DataFrames menores, podemos usar o método `pd.concat([df1, df2, df3, ...])`. Este método só funciona se todas as colunas forem iguais em todos os DataFrames."
   ]
  },
  {
   "cell_type": "code",
   "execution_count": null,
   "metadata": {},
   "outputs": [],
   "source": [
    "bakery = pd.read_csv('data/bakery.csv')\n",
    "print(bakery)\n",
    "ice_cream = pd.read_csv('data/ice_cream.csv')\n",
    "print(ice_cream)\n",
    "\n",
    "menu = pd.concat([bakery, ice_cream])\n",
    "print(menu)"
   ]
  }
 ],
 "metadata": {
  "kernelspec": {
   "display_name": "Python 3",
   "language": "python",
   "name": "python3"
  },
  "language_info": {
   "codemirror_mode": {
    "name": "ipython",
    "version": 3
   },
   "file_extension": ".py",
   "mimetype": "text/x-python",
   "name": "python",
   "nbconvert_exporter": "python",
   "pygments_lexer": "ipython3",
   "version": "3.12.3"
  }
 },
 "nbformat": 4,
 "nbformat_minor": 2
}
