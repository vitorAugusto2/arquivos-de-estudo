{
 "cells": [
  {
   "cell_type": "markdown",
   "metadata": {},
   "source": [
    "# 🐍 PYTHON"
   ]
  },
  {
   "cell_type": "markdown",
   "metadata": {},
   "source": [
    "### 1. Saida de dados com F-Strings"
   ]
  },
  {
   "cell_type": "code",
   "execution_count": null,
   "metadata": {},
   "outputs": [],
   "source": [
    "a = \"mundo\"\n",
    "print(f\"Alo {a}\")"
   ]
  },
  {
   "cell_type": "code",
   "execution_count": null,
   "metadata": {},
   "outputs": [],
   "source": [
    "preco = 5.20\n",
    "print(f\"preco: {preco:10.2f}\")\n",
    "print(f\"preco: {preco:>10.2f}\")\n",
    "print(f\"preco: {preco:<10.2f}\")\n",
    "print(f\"preco: {preco:^10.2f}\")\n",
    "print(f\"preco: {preco:.^10.2f}\")\n",
    "print(f\"preco: {preco:x^10.2f}\")\n",
    "print(f\"preco: {preco:_^10.2f}\")\n",
    "print(f\"preco: {preco * 10 + 1 :5.2f}\")"
   ]
  },
  {
   "cell_type": "code",
   "execution_count": null,
   "metadata": {},
   "outputs": [],
   "source": [
    "x = 5.1\n",
    "print(f\"inteiro: {int(x)}\")"
   ]
  },
  {
   "cell_type": "code",
   "execution_count": null,
   "metadata": {},
   "outputs": [],
   "source": [
    "print(f\"\"\"\n",
    "    O preco do novo produito é: {preco:5.2f}\n",
    "    calculos: {preco * 10 + 1 :5.2f}\n",
    "    inteiro: {int(x)}\n",
    "    \"\"\")"
   ]
  },
  {
   "cell_type": "markdown",
   "metadata": {},
   "source": [
    "### 2. Variaveis e Entrada de dados"
   ]
  },
  {
   "cell_type": "code",
   "execution_count": null,
   "metadata": {},
   "outputs": [],
   "source": [
    "# Operadores relacionais\n",
    "a = 1\n",
    "b = 5\n",
    "c = 2\n",
    "d = 1\n",
    "\n",
    "a == b \n",
    "a > d\n",
    "a < d\n",
    "c != c\n",
    "a >= b\n",
    "d <= a"
   ]
  },
  {
   "cell_type": "code",
   "execution_count": null,
   "metadata": {},
   "outputs": [],
   "source": [
    "# Operadores Logicos\n",
    "True and True\n",
    "False or True\n",
    "not True\n",
    "\n",
    "# Expressoes logicas\n",
    "True or False and not True\n",
    "\n",
    "# veracidade\n",
    "x = None # valor nao existe\n",
    "False\n",
    "None\n",
    "[]\n",
    "{}\n",
    "\"\"\n",
    "set()\n",
    "0\n",
    "0.0\n",
    "\n",
    "## and\n",
    "safe_x = x or 0\n",
    "safe_x = x if x is not None else 0\n",
    "\n",
    "## all e any\n",
    "all([True, 1, {3}])\n",
    "all([True, 1, {}])\n",
    "any([True, 1, {}])\n",
    "any([])"
   ]
  },
  {
   "cell_type": "code",
   "execution_count": 7,
   "metadata": {},
   "outputs": [],
   "source": [
    "# Entrada de dados e conversao \n",
    "anos = int(input(\"Anos de servico: \"))\n",
    "valor_por_anos = float(input(f\"Valor por ano: \"))\n",
    "bonus = anos * valor_por_anos\n",
    "print(f\"Bonus: {bonus: 5.2f}\")"
   ]
  },
  {
   "cell_type": "markdown",
   "metadata": {},
   "source": [
    "### 3. Estrutura condicional"
   ]
  },
  {
   "cell_type": "code",
   "execution_count": null,
   "metadata": {},
   "outputs": [],
   "source": [
    "idade = int(input(\"Digite a idade de seu carro: \"))\n",
    "if idade <= 3:\n",
    "    print(f\"Seu carro é novo !\")\n",
    "else:\n",
    "    print(f\"Seu carro é velho !\")"
   ]
  },
  {
   "cell_type": "code",
   "execution_count": null,
   "metadata": {},
   "outputs": [],
   "source": [
    "categoria = int(input(\"Digite a categoria do produto: \"))\n",
    "if categoria == 1:\n",
    "    preco = 10\n",
    "elif categoria == 2:\n",
    "    preco = 20\n",
    "elif categoria == 3:\n",
    "    preco = 30\n",
    "else:\n",
    "    print(f\"Categoria invalida, digite um valor entre 1 e 3 !\")\n",
    "print(f\"Preco do produto {preco: 6.2f}\")"
   ]
  },
  {
   "cell_type": "code",
   "execution_count": null,
   "metadata": {},
   "outputs": [],
   "source": [
    "# ternario\n",
    "par_ou_impar = \"par\" if x % 2 == 0 else \"impar\"\n",
    "\n",
    "x = 2\n",
    "print(par_ou_impar) # par"
   ]
  },
  {
   "cell_type": "markdown",
   "metadata": {},
   "source": [
    "### 4. Estrutura de repeticao"
   ]
  },
  {
   "cell_type": "code",
   "execution_count": null,
   "metadata": {},
   "outputs": [],
   "source": [
    "ultimo = int(input(\"Digite o ultimo digito de contagem: \"))\n",
    "i = 0\n",
    "while i <= ultimo:\n",
    "    if i % 2 == 0:\n",
    "        print(i)\n",
    "    i += 1 # contador "
   ]
  },
  {
   "cell_type": "code",
   "execution_count": null,
   "metadata": {},
   "outputs": [],
   "source": [
    "n = 1\n",
    "soma = 0\n",
    "while n <= 10:\n",
    "    x = int(input(f\"Digite o {x} numero:\"))\n",
    "    soma += x # acumulador\n",
    "    n += 1 # contador\n",
    "print(f\"Soma = {soma}\")"
   ]
  },
  {
   "cell_type": "code",
   "execution_count": null,
   "metadata": {},
   "outputs": [],
   "source": [
    "# Break\n",
    "s = 0\n",
    "while True:\n",
    "    v = int(input(\"Digite um numero a somar ou 0 para sair:\"))\n",
    "    if v == 0:\n",
    "        break # saia do loop totalmente\n",
    "    s += v # infinito\n",
    "print(s)"
   ]
  },
  {
   "cell_type": "code",
   "execution_count": null,
   "metadata": {},
   "outputs": [],
   "source": [
    "# Continue\n",
    "i = 0 \n",
    "while i < 12:\n",
    "    i += 2\n",
    "    if i == 8:\n",
    "        continue # va imediatamente para a proxiam iteracao\n",
    "    print(i)\n",
    "else:\n",
    "    print(f\"Os numeros pares de 2 a 12 foram exibidos, com excecao do 8\")"
   ]
  },
  {
   "cell_type": "code",
   "execution_count": null,
   "metadata": {},
   "outputs": [],
   "source": [
    "# While aninhados\n",
    "tabuada = 1\n",
    "while tabuada <= 10:\n",
    "    numero = 1\n",
    "    while numero <= 10:\n",
    "        print(f\"{tabuada} x {numero} = {tabuada * numero}\")\n",
    "        numero += 1\n",
    "    tabuada += 1"
   ]
  },
  {
   "cell_type": "markdown",
   "metadata": {},
   "source": [
    "### 5. Lista, dicionarios, tuplas e conjuntos"
   ]
  },
  {
   "cell_type": "code",
   "execution_count": null,
   "metadata": {},
   "outputs": [],
   "source": [
    "integer_list = [1, 2, 3]\n",
    "heterogeneous_list = [\"string\", 0.1, True]\n",
    "list_of_list = [integer_list, heterogeneous_list, []]"
   ]
  },
  {
   "cell_type": "markdown",
   "metadata": {},
   "source": [
    "**5.1 Lista**"
   ]
  },
  {
   "cell_type": "code",
   "execution_count": null,
   "metadata": {},
   "outputs": [],
   "source": [
    "l1 = []\n",
    "l2 = [0, 1, 2, 3, 4, 5]\n",
    "\n",
    "\n",
    "# Fatiamento\n",
    "print(l2[2])\n",
    "print(l2[0:5])\n",
    "print(l2[:4])\n",
    "print(l2[1:3])\n",
    "print(l2[-1])\n",
    "print(l2[1:-1])\n",
    "print(l2[:])    # copia\n",
    "\n",
    "# stride\n",
    "print(l2[::2])\n",
    "print(l2[5:2:-1])\n",
    "\n",
    "# Tamanho \n",
    "len(l2)\n",
    "\n",
    "# Adicao \n",
    "l2.append(\"x\")\n",
    "print(l2)\n",
    "\n",
    "l2 = l2 + [1]\n",
    "l2 = l2 + [6, 7, 8]\n",
    "print(l2)\n",
    "\n",
    "l2.extend(\"y\")\n",
    "l2.extend([20, 30, 40])\n",
    "print(l2)\n",
    "\n",
    "l2.insert(3, \"z\") # l2[3] = \"z\"\n",
    "print(l2)\n",
    "\n",
    "\n",
    "# Removendo \n",
    "del l2[0]\n",
    "print(l2)\n",
    "\n",
    "l2.pop(2)\n",
    "print(l2)\n",
    "\n",
    "l2.remove(1)\n",
    "print(l2)\n",
    "\n",
    "# Verificaicao\n",
    "1 in l2     # True\n",
    "20 in l2    # False"
   ]
  },
  {
   "cell_type": "code",
   "execution_count": null,
   "metadata": {},
   "outputs": [],
   "source": [
    "# Pesquisa \n",
    "z = [\"a\", \"b\", \"c\", \"d\"]\n",
    "letra = str(input(\"Digite a letra: \"))\n",
    "\n",
    "## while (sequencial)\n",
    "while x < len(z):\n",
    "    if z[x] == letra:\n",
    "        print(\"achou\")\n",
    "        break\n",
    "    x += 1\n",
    "else:\n",
    "    print(\"nao achou\")\n",
    "\n",
    "## for (um a um)\n",
    "for x in z:\n",
    "    if x == letra:\n",
    "        print(\"achou\")\n",
    "        break\n",
    "    else:\n",
    "        print(\"nao achou\")\n",
    "\n",
    "## range\n",
    "for i in range(len(z)):\n",
    "    if z[i] == letra:\n",
    "        print(\"achou\")\n",
    "        break\n",
    "    else:\n",
    "        print(\"nao achou\")"
   ]
  },
  {
   "cell_type": "code",
   "execution_count": null,
   "metadata": {},
   "outputs": [],
   "source": [
    "# Lista Aninhadas\n",
    "la = [4, [2, 3], [1, [3, 4]]]\n",
    "\n",
    "print(la[2][1])\n",
    "print(la[2][1][0])\n",
    "\n",
    "## matriz\n",
    "a = [[1,2,3],\n",
    "     [4,5,6],\n",
    "     [7,8,9]]\n",
    "\n",
    "print(a)\n",
    "print(a[0])\n",
    "print(a[0][1])\n",
    "a[1][2] = 50\n",
    "print(a)\n",
    "\n",
    "for i in range(len(a)):            \n",
    "     for j in range(len(a[i])):    \n",
    "        print(a[i][j], end=\" \")    \n",
    "     print()                       \n"
   ]
  },
  {
   "cell_type": "code",
   "execution_count": null,
   "metadata": {},
   "outputs": [],
   "source": [
    "# classificacao\n",
    "x = [4, 1 , 2, 3]\n",
    "y = sorted(x)       # y é [1, 2, 3, 4], x nao mudou\n",
    "x.sort()            # agora x é [1, 2, 3, 4]\n",
    "\n",
    "##\n",
    "\n",
    "# classifique a lista por valor absoluto do maior para o menor\n",
    "x = sorted([-4, 1, -2, 3], keys=abs, reverse=True)  # é [-4, 3, -2, 1]\n",
    "\n",
    "# classifique as palavras e contagens do maior numero par ao menor\n",
    "wc = sorted(word_counts.items(),\n",
    "            key= lambda word_and_count: word_and_count[1],\n",
    "            reverse=True)"
   ]
  },
  {
   "cell_type": "code",
   "execution_count": null,
   "metadata": {},
   "outputs": [],
   "source": [
    "# Compreensoes de listas\n",
    "l1 = [x for x in range(5) if x % 2 == 0]    # [0, 2, 4]\n",
    "l2 = [x * x for x in range(5)]              # [0, 1, 4, 9, 16]\n",
    "l3 = [x * x for x in l1 ]                   # [0, 4, 16]\n",
    "\n",
    "## transformar lista em dicionarios ou conjuntos\n",
    "l_dict = {x: x * x for x in range(5)}  # {0: 0, 1: 1, 2: 4, 3: 9, 4: 16}\n",
    "l_set = {x * x for x in [1, -1]}       # {1}\n",
    "\n",
    "## sem valor da lista\n",
    "zeros = [0 for _ in l1]\n",
    "\n",
    "## multiplos fors\n",
    "pairs =[(x, y)\n",
    "        for x in range(10)\n",
    "        for y in range(x + 1, 10)]"
   ]
  },
  {
   "cell_type": "markdown",
   "metadata": {},
   "source": [
    "**5.2 Dicionario**"
   ]
  },
  {
   "cell_type": "code",
   "execution_count": null,
   "metadata": {},
   "outputs": [],
   "source": [
    "empty_dict = {}\n",
    "estoque = {\n",
    "    \"tomate\" : [1000, 2.30],\n",
    "    \"alface\" : [500, 0,45],\n",
    "    \"batata\" : [2001, 1.20]\n",
    "}"
   ]
  },
  {
   "cell_type": "code",
   "execution_count": null,
   "metadata": {},
   "outputs": [],
   "source": [
    "dict = { \n",
    "    \"nome\" : \"Fulano\",\n",
    "    5 : \"cinco\",\n",
    "    \"lista\" : [1, 2, 4]\n",
    "}\n",
    "\n",
    "## pesquisa\n",
    "dict[\"nome\"]\n",
    "\n",
    "##\n",
    "\n",
    "print(dict)\n",
    "dict[5] = \"four\"    # atribuindo valor, substituindo\n",
    "del dict[\"lista\"]   # deletando chave\n",
    "print(dict[5])\n",
    "\n",
    "##\n",
    "\n",
    "print(5 in dict)        # verificar chave\n",
    "print(dict.keys())      # chaves\n",
    "print(dict.values())    # valores\n",
    "print(dict.items())     # tuplas (chave, valor)\n",
    "\n",
    "##\n",
    "\n",
    "for chave,valor in dict.items():\n",
    "    print(chave)\n",
    "\n",
    "## get\n",
    "l2.get(\"nome\", 0)"
   ]
  },
  {
   "cell_type": "markdown",
   "metadata": {},
   "source": [
    "**5.3 Tuplas**"
   ]
  },
  {
   "cell_type": "code",
   "execution_count": null,
   "metadata": {},
   "outputs": [],
   "source": [
    "tupla = (\"a\", \"b\", \"c\") # ou tupla = \"a\", \"b\", \"c\"\n",
    "\n",
    "print(tupla)\n",
    "print(tupla[1])"
   ]
  },
  {
   "cell_type": "code",
   "execution_count": null,
   "metadata": {},
   "outputs": [],
   "source": [
    "# retornar multiplos valores\n",
    "def sum_and_product(x, y):\n",
    "    return (x + y), (x * y)\n",
    "\n",
    "sp = sum_and_product(2, 3)      # sp é (5, 6)\n",
    "s, p = sum_and_product(5, 10)   # s é 15, p é 50"
   ]
  },
  {
   "cell_type": "code",
   "execution_count": null,
   "metadata": {},
   "outputs": [],
   "source": [
    "# atribuicoes simples\n",
    "x, y = 1, 2     # x é 1 e y é 2\n",
    "x, y = y, 2     # troca de variaveis; x é 2 e y é 1"
   ]
  },
  {
   "cell_type": "markdown",
   "metadata": {},
   "source": [
    "**5.4 Conjuntos (set)**"
   ]
  },
  {
   "cell_type": "code",
   "execution_count": null,
   "metadata": {},
   "outputs": [],
   "source": [
    "a = set()\n",
    "a.add(1)\n",
    "a.add(2)\n",
    "a.add(3)\n",
    "print(a)\n",
    "a.add(1)\n",
    "print(a)\n",
    "a.add(0)\n",
    "a.add(-1)\n",
    "print(a)\n",
    "\n",
    "## \n",
    "\n",
    "b = set([2, 3])\n",
    "print(b)\n",
    "len(b)\n",
    "2 in b"
   ]
  },
  {
   "cell_type": "code",
   "execution_count": null,
   "metadata": {},
   "outputs": [],
   "source": [
    "item_list = [1, 2, 3, 1, 2, 3]\n",
    "num_items = len(item_list)          # 6\n",
    "item_set = set(item_list)           # {1, 2, 3}\n",
    "num_disctinct_items = len(item_set) # 3 \n",
    "distinct_item_list = list(item_set) # [1, 2, 3]"
   ]
  },
  {
   "cell_type": "markdown",
   "metadata": {},
   "source": [
    "### 6. TRABALHANDO COM STRING "
   ]
  },
  {
   "cell_type": "code",
   "execution_count": null,
   "metadata": {},
   "outputs": [],
   "source": [
    "# Transforma cada caracter\n",
    "l = list(\"Alo mundo\")\n",
    "l[0] = \"a\"\n",
    "print(l)\n",
    "\n",
    "# Junta os caracteres\n",
    "s = \"\".join(l)\n",
    "print(s)"
   ]
  },
  {
   "cell_type": "code",
   "execution_count": null,
   "metadata": {},
   "outputs": [],
   "source": [
    "s = \"O rato roeu a roupa do Rei de Roma\"\n",
    "\n",
    "# lower\n",
    "s.lower()\n",
    "\n",
    "# upper\n",
    "s.upper()\n",
    "\n",
    "# in ou not in \n",
    "\"rato\" in s.lower()\n"
   ]
  },
  {
   "cell_type": "code",
   "execution_count": null,
   "metadata": {},
   "outputs": [],
   "source": [
    "t = \"Um tigre, dois trigres, tres tigres\"\n",
    "\n",
    "# Contagem\n",
    "t.count(\"tigre\")\n",
    "t.count(\"t\")\n",
    "\n",
    "# Pesquisa\n",
    "t.find(\"tig\")\n",
    "t.rfind(\"e\")\n",
    "\n",
    "# split\n",
    "s.split(\" \")\n",
    "\n",
    "# replace\n",
    "s.replace(\"tigre\", \"gato\")\n",
    "\n",
    "# remocao de espaco branco\n",
    "t.strip()\n",
    "t.rstrip()\n",
    "t.lstrip()"
   ]
  },
  {
   "cell_type": "code",
   "execution_count": null,
   "metadata": {},
   "outputs": [],
   "source": [
    "s = \"125\"\n",
    "p = \"alo mundo\"\n",
    "\n",
    "# Validacao\n",
    "p.isalnum()\n",
    "s.isaplha()\n",
    "p.isupper()\n",
    "p.islower()"
   ]
  },
  {
   "cell_type": "markdown",
   "metadata": {},
   "source": [
    "### 7. Funcoes"
   ]
  },
  {
   "cell_type": "code",
   "execution_count": null,
   "metadata": {},
   "outputs": [],
   "source": [
    "# def\n",
    "def soma(a, b):\n",
    "    print(a + b)\n",
    "soma(2, 5)\n",
    "\n",
    "# return\n",
    "def soma(a, b):\n",
    "    return a + b\n",
    "print(soma(2, 5))"
   ]
  },
  {
   "cell_type": "code",
   "execution_count": null,
   "metadata": {},
   "outputs": [],
   "source": [
    "def épar(x):\n",
    "    return x % 2 == 0\n",
    "\n",
    "def par_ou_impar(x):\n",
    "    if épar(x):\n",
    "        return \"par\"\n",
    "    else:\n",
    "        return \"impar\"\n",
    "\n",
    "print(par_ou_impar(4))\n",
    "print(par_ou_impar(5))"
   ]
  },
  {
   "cell_type": "code",
   "execution_count": null,
   "metadata": {},
   "outputs": [],
   "source": [
    "# recursividade\n",
    "def fatorial(n):\n",
    "    if n == 0 or n == 1:\n",
    "        return 1\n",
    "    else:\n",
    "        return n * fatorial(n-1)\n",
    "\n",
    "def fibonacci(n):\n",
    "    if n <= 1:\n",
    "        return n\n",
    "    else:\n",
    "        return fibonacci(n-1) + fibonacci(n-2)"
   ]
  },
  {
   "cell_type": "code",
   "execution_count": null,
   "metadata": {},
   "outputs": [],
   "source": [
    "# lambda\n",
    "aumento = lambda a, b: (a*b/100)\n",
    "aumento(100, 50)\n",
    "\n",
    "##\n",
    "\n",
    "def apply_to_one(f):\n",
    "    return f(1)\n",
    "\n",
    "y = apply_to_one(lambda x: x + 4) # nao recomendado"
   ]
  },
  {
   "cell_type": "code",
   "execution_count": null,
   "metadata": {},
   "outputs": [],
   "source": [
    "# parametros recebendo argumentos\n",
    "def my_print(message = \"my default message\"):\n",
    "    print(message)\n",
    "\n",
    "my_print(\"hello\")   # imprime \"hello\"\n",
    "my_print()          # imprime \"my default message\""
   ]
  },
  {
   "cell_type": "markdown",
   "metadata": {},
   "source": [
    "**7.1 Excecoes**"
   ]
  },
  {
   "cell_type": "code",
   "execution_count": null,
   "metadata": {},
   "outputs": [],
   "source": [
    "nomes = [\"Ana\", \"Carlos\", \"Maria\"]\n",
    "for tentativa in range(3):\n",
    "    try:\n",
    "        i = int(input(\"Digite o indice que quer imprimir: \"))\n",
    "        print(nomes[i])\n",
    "    except Exception as e:\n",
    "        print(f\"Algo deu errado: {e}\")"
   ]
  },
  {
   "cell_type": "markdown",
   "metadata": {},
   "source": [
    "**7.2 Modulos**"
   ]
  },
  {
   "cell_type": "code",
   "execution_count": null,
   "metadata": {},
   "outputs": [],
   "source": [
    "# entrada.py\n",
    "def valida_inteiro(mensagem, minimo, maximo):\n",
    "    while True:\n",
    "        try:\n",
    "            v = int(input(mensagem))\n",
    "            if v >= minimo and v <= maximo:\n",
    "                return v\n",
    "            else:\n",
    "                print(f\"Digite um valor entre {minimo} e {maximo}\")\n",
    "        except ValueError:\n",
    "            print(\"Voce deve digitar um numero inteiro\")\n",
    "\n",
    "# soma.py\n",
    "import entrada\n",
    "l = []\n",
    "for x in range(10):\n",
    "    l.append(entrada.valida_inteiro(\"Digite um numero:\", 0 , 20))\n",
    "print(f\"Soma: {sum(l)}\")"
   ]
  },
  {
   "cell_type": "code",
   "execution_count": null,
   "metadata": {},
   "outputs": [],
   "source": [
    "\"\"\"\n",
    "import matplotlib                               -> importar\n",
    "import matplotlib as plt                        -> alias\n",
    "from collections import defaultdict, Counter    -> valores especificos\n",
    "from re import *                                -> importar conteudo inteiro\n",
    "\"\"\""
   ]
  },
  {
   "cell_type": "markdown",
   "metadata": {},
   "source": [
    "### 8. Arquivo"
   ]
  },
  {
   "cell_type": "code",
   "execution_count": null,
   "metadata": {},
   "outputs": [],
   "source": [
    "# r, w, a, +\n",
    "with open(\"test.txt\", \"w\") as multiplos4:\n",
    "    with open(\"pares.txt\") as pares:\n",
    "        for l in pares.readlines():\n",
    "            if int(l) % 4 == 0:\n",
    "                multiplos4.write(l)"
   ]
  },
  {
   "cell_type": "markdown",
   "metadata": {},
   "source": [
    "**8.1 Diretório**"
   ]
  },
  {
   "cell_type": "code",
   "execution_count": null,
   "metadata": {},
   "outputs": [],
   "source": [
    "import os\n",
    "os.getcwd()\n",
    "os.mkdir(\"x\")\n",
    "os.makedirs(\"y/z\")\n",
    "os.rename(\"x\", \"x2\")\n",
    "os.remove(\"test.txt\")\n",
    "os.listdir(\"x2\")\n",
    "\n",
    "## isdir e isfile\n",
    "import os.path\n",
    "\n",
    "for a in os.listdir(\".\"):\n",
    "    if os.path.isdir(a):\n",
    "        print(f\"{a}/\")\n",
    "    elif os.path.isfile(a):\n",
    "        print(a)\n",
    "\n",
    "## verificacao\n",
    "if os.path.exists(\"z\"):\n",
    "    print(\"O diretorio z existe\")\n",
    "else:\n",
    "    print(\"O diretorio z nao existe\")"
   ]
  },
  {
   "cell_type": "markdown",
   "metadata": {},
   "source": [
    "### 9. Classes e Objetos "
   ]
  },
  {
   "cell_type": "markdown",
   "metadata": {},
   "source": [
    "**9.1 Objeto**"
   ]
  },
  {
   "cell_type": "code",
   "execution_count": null,
   "metadata": {},
   "outputs": [],
   "source": [
    "# classe - associa dados e operacoes em uma só estrutura\n",
    "# objeto - instancia/variavel de uma classe\n",
    "#\n",
    "# __init__ -> construtor\n",
    "# - definir o compratmento de todos os objetos de uma classe (metodos), preservando os valores individuas de cada um (atributos)\n",
    "class Televisao: # padrao PascalCase\n",
    "    def __init__(self):     # construtor/inicializador\n",
    "        self.ligada = False # atributo; self = refere a instancia da classe especifica\n",
    "        self.canal = 2      # atributo\n",
    "    \n",
    "    def muda_canal_para_baixo(self):    # metodo é associado a uma classe e atua sobre um objeto\n",
    "        self.canal -= 1                 # modifica atributo\n",
    "\n",
    "    def muda_canal_para_cima(self):    # metodo\n",
    "        self.canal += 1                # modifica atributo"
   ]
  },
  {
   "cell_type": "code",
   "execution_count": null,
   "metadata": {},
   "outputs": [],
   "source": [
    "## caso 1\n",
    "tv = Televisao()    # instancia objeto\n",
    "tv.ligada           # False\n",
    "tv.canal            # 2\n",
    "\n",
    "tv_sala = Televisao()   # instancia objeto\n",
    "tv_sala.ligada = True   # modifica valor do atributo\n",
    "tv_sala.canal = 4       # modifica valor do atributo\n",
    "tv.canal                # 2\n",
    "tv_sala.canal           # 4"
   ]
  },
  {
   "cell_type": "code",
   "execution_count": null,
   "metadata": {},
   "outputs": [],
   "source": [
    "## caso 2\n",
    "tv = Televisao()\n",
    "tv.muda_canal_para_cima()\n",
    "tv.muda_canal_para_cima()\n",
    "tv.canal    # 4\n",
    "\n",
    "tv.muda_canal_para_baixo()\n",
    "tv.canal    # 3"
   ]
  },
  {
   "cell_type": "markdown",
   "metadata": {},
   "source": [
    "**9.2 Passagem de parametro**"
   ]
  },
  {
   "cell_type": "code",
   "execution_count": null,
   "metadata": {},
   "outputs": [],
   "source": [
    "class Televisao:\n",
    "    def __init__(self, min, max) -> None: # passa parametros\n",
    "        self.ligada = False\n",
    "        self.canal = 2\n",
    "        self.cmim = min\n",
    "        self.cmax = max\n",
    "\n",
    "    def muda_canal_para_baixo(self):\n",
    "        if self.canal - 1 >= self.cmim:\n",
    "            self.canal -= 1\n",
    "\n",
    "    def muda_canal_para_cima(self):\n",
    "        if self.canal + 1 <= self.cmax:\n",
    "            self.canal += 1\n",
    "\n",
    "tv = Televisao(1, 99)\n",
    "\n",
    "for x in range(0, 120):\n",
    "    tv.muda_canal_para_cima()\n",
    "print(tv.canal) # 99 \n",
    "\n",
    "for x in range(0, 120):\n",
    "    tv.muda_canal_para_baixo()\n",
    "print(tv.canal) # 1"
   ]
  },
  {
   "cell_type": "code",
   "execution_count": null,
   "metadata": {},
   "outputs": [],
   "source": [
    "class CountingClicker:\n",
    "    def __init__(self, count = 0):\n",
    "        self.count = count\n",
    "\n",
    "    def __repr__(self):\n",
    "        return f\"CountingClicker(count={self.count})\"\n",
    "    \n",
    "    def click(self, num_times = 1):\n",
    "        self.count += num_times\n",
    "    \n",
    "    def read(self):\n",
    "        return self.count\n",
    "\n",
    "    def reset(self):\n",
    "        self.count = 0\n",
    "\n",
    "\n",
    "clicker = CountingClicker()\n",
    "assert clicker.read() == 0, \"clicker should start with count 0\"\n",
    "clicker.click()\n",
    "clicker.click()\n",
    "assert clicker.read() == 2, \"after two clicks, clicker should have count 2\"\n",
    "clicker.reset()\n",
    "assert clicker.read() == 0, \"afeter reset, clicker should be back to 0\""
   ]
  },
  {
   "cell_type": "markdown",
   "metadata": {},
   "source": [
    "**9.2 Heranca**"
   ]
  },
  {
   "cell_type": "code",
   "execution_count": null,
   "metadata": {},
   "outputs": [],
   "source": [
    "class Conta:\n",
    "    pass\n",
    "\n",
    "class ContaEspecial(Conta): # ContaEspecial herda de Conta\n",
    "    def __init__(self, clientes, numero, saldo=0, limite=0) -> None:\n",
    "        Conta.__init__(self, clientes, numero , saldo)\n",
    "        self.limite = limite\n",
    "    def saque(self, valor):\n",
    "        if self.saldo + self.limite >= valor:\n",
    "            self.saldo -= valor\n",
    "            self.operecaoes.append([\"SAQUE\", valor])\n",
    "    "
   ]
  },
  {
   "cell_type": "markdown",
   "metadata": {},
   "source": [
    "### 10. Formatacao de espaco em Branco"
   ]
  },
  {
   "cell_type": "code",
   "execution_count": null,
   "metadata": {},
   "outputs": [],
   "source": [
    "# ex1\n",
    "long_winded_computation = (1 + 2 + 3 + 4 + 5 + 6 + 7 + 8 +\n",
    "                           9 + 10 + 11)\n",
    "\n",
    "# ex2\n",
    "two_plus_three = 2 + \\\n",
    "                 3"
   ]
  },
  {
   "cell_type": "markdown",
   "metadata": {},
   "source": [
    "### 11. defaultdict e counter"
   ]
  },
  {
   "cell_type": "code",
   "execution_count": null,
   "metadata": {},
   "outputs": [],
   "source": [
    "from collections import defaultdict, Counter\n",
    "\n",
    "# Defaultdict\n",
    "dd_list = defaultdict(list)\n",
    "dd_list[2].append(1)\n",
    "# [out] defaultdict(<class 'list'>, {2: [1]})\n",
    "\n",
    "\n",
    "# Counter\n",
    "c = Counter([0, 1, 2, 0]) # c é {0: 2, 1: 1, 2: 2}"
   ]
  },
  {
   "cell_type": "markdown",
   "metadata": {},
   "source": [
    "### 12. Teste automatizados e assercao"
   ]
  },
  {
   "cell_type": "code",
   "execution_count": null,
   "metadata": {},
   "outputs": [],
   "source": [
    "def smalltest_item(xs):\n",
    "    return min(xs)\n",
    "\n",
    "# verifica se o codigo esta correto \n",
    "assert smalltest_item([10, 20, 5, 40]) == 5     # Ok\n",
    "assert smalltest_item([1, 0 , -1, 2]) == 0      # msg: AssertionError"
   ]
  },
  {
   "cell_type": "markdown",
   "metadata": {},
   "source": [
    "### 13. Iteraveis e Geradores"
   ]
  },
  {
   "cell_type": "code",
   "execution_count": null,
   "metadata": {},
   "outputs": [],
   "source": [
    "# gerador \n",
    "def generate_range(n):\n",
    "    i = 0\n",
    "    while i < n:\n",
    "        yield i     # cada chamda para yield produz um valor do gerador\n",
    "        i += 1\n",
    "\n",
    "##\n",
    "\n",
    "evens_below_20 = (i for i in generate_range(20) if i % 2 == 0)"
   ]
  },
  {
   "cell_type": "code",
   "execution_count": null,
   "metadata": {},
   "outputs": [],
   "source": [
    "# enumerate\n",
    "for i, name in enumerate(names):\n",
    "    print(f\"name {i} is {name}\")"
   ]
  },
  {
   "cell_type": "markdown",
   "metadata": {},
   "source": [
    "### 14. zips e descompactacao de argumento"
   ]
  },
  {
   "cell_type": "code",
   "execution_count": null,
   "metadata": {},
   "outputs": [],
   "source": [
    "# zip\n",
    "l1 = ['a', 'b', 'c']\n",
    "l2 = [1, 2, 3]\n",
    "[pair for pair in zip(l1, l2)] # [('a', 1), ('b', 2), ('c', 3)]"
   ]
  },
  {
   "cell_type": "code",
   "execution_count": null,
   "metadata": {},
   "outputs": [],
   "source": [
    "# descompactacao do argumento\n",
    "pairs = [('a', 1), ('b', 2), ('c', 3)]\n",
    "lettres, numbers = zip(*pairs)\n",
    "\n",
    "##\n",
    "\n",
    "lettres, numbers = zip(('a', 1), ('b', 2), ('c', 3))"
   ]
  },
  {
   "cell_type": "markdown",
   "metadata": {},
   "source": [
    "### 15. Anotacoes de tipo"
   ]
  },
  {
   "cell_type": "code",
   "execution_count": null,
   "metadata": {},
   "outputs": [],
   "source": [
    "# tipada dinamicamente\n",
    "def add(a, b):\n",
    "    return a + b\n",
    "\n",
    "# tipada eestaticamente\n",
    "def add(a: int, b: int) -> int:\n",
    "    return a + b\n",
    "\n",
    "##\n",
    "\n",
    "def dot_product(x, y): ...\n",
    "def dot_product(x: Vector, y: Vector) -> float: ...\n",
    "\n",
    "## \n",
    "def secretly_ugly_function(value, operation): ...\n",
    "def secretly_ugly_function(value: int,\n",
    "                           operation: Union[str, int, float, bool]) -> int: ..."
   ]
  },
  {
   "cell_type": "code",
   "execution_count": null,
   "metadata": {},
   "outputs": [],
   "source": [
    "# typing\n",
    "from typing import List \n",
    "def total(xs: List[float]) -> float:\n",
    "    return sum(total)\n",
    "\n",
    "##\n",
    "\n",
    "from typing import Optional\n",
    "values: List[int] = []          # values = []\n",
    "best_so_far = Optional[float]   # best_so_far = None"
   ]
  }
 ],
 "metadata": {
  "kernelspec": {
   "display_name": "Python 3",
   "language": "python",
   "name": "python3"
  },
  "language_info": {
   "codemirror_mode": {
    "name": "ipython",
    "version": 3
   },
   "file_extension": ".py",
   "mimetype": "text/x-python",
   "name": "python",
   "nbconvert_exporter": "python",
   "pygments_lexer": "ipython3",
   "version": "3.12.2"
  }
 },
 "nbformat": 4,
 "nbformat_minor": 2
}
