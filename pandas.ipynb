{
 "cells": [
  {
   "cell_type": "markdown",
   "metadata": {},
   "source": [
    "# 🐼 Pandas - Crianda, Carregando e Selecionando"
   ]
  },
  {
   "cell_type": "markdown",
   "metadata": {},
   "source": [
    "### 1. Importando o módulo Pandas\n",
    "Pandas é um módulo Python para trabalhar com dados tabulares (ou seja, dados em uma tabela com linhas e colunas)."
   ]
  },
  {
   "cell_type": "code",
   "execution_count": null,
   "metadata": {},
   "outputs": [],
   "source": [
    "import pandas as pd"
   ]
  },
  {
   "cell_type": "markdown",
   "metadata": {},
   "source": [
    "### 2. Crie um DataFrame I\n",
    "\n",
    "Um DataFrame é um objeto que armazena dados como linhas e colunas. Você pode pensar em um DataFrame como uma planilha ou uma tabela SQL. Você pode criar manualmente um DataFrame ou preenchê-lo com dados de um CSV, uma planilha do Excel ou uma consulta SQL.\n",
    "\n",
    "DataFrames possuem linhas e colunas. Cada coluna possui um nome, que é uma string. Cada linha possui um índice, que é um número inteiro. DataFrames podem conter muitos tipos de dados diferentes: strings, ints, floats, tuples, etc.\n",
    "\n",
    "Você pode passar um dicionário para **pd.DataFrame()**. Cada chave é um nome de coluna e cada valor é uma lista de valores de coluna. As colunas devem ter todas o mesmo comprimento ou você receberá um erro."
   ]
  },
  {
   "cell_type": "code",
   "execution_count": null,
   "metadata": {},
   "outputs": [],
   "source": [
    "df1 = pd.DataFrame({\n",
    "  'Product ID': [1, 2, 3, 4],\n",
    "  'Product Name': ['t-shirt', 't-shirt', 'skirt', 'skirt'],\n",
    "  'Color': ['blue', 'green', 'red', 'black']\n",
    "})\n",
    "\n",
    "print(df1)"
   ]
  },
  {
   "cell_type": "markdown",
   "metadata": {},
   "source": [
    "### 3. Crie um DataFrame II\n",
    "Pode passar uma lista de listas, onde cada uma representa uma linha de dados. Use o argumento palavra-chave **columns** para passar uma lista de nomes de colunas."
   ]
  },
  {
   "cell_type": "code",
   "execution_count": null,
   "metadata": {},
   "outputs": [],
   "source": [
    "df2 = pd.DataFrame([\n",
    "  [1, 'San Diego', 100],\n",
    "  [2, 'Los Angeles', 120],\n",
    "  [3, 'San Francisco', 90],\n",
    "  [4, 'Sacramento', 115]\n",
    "],\n",
    "  columns = [\n",
    "    'Store ID', 'Location', 'Number of Employees'\n",
    "  ])\n",
    "\n",
    "print(df2)"
   ]
  },
  {
   "cell_type": "markdown",
   "metadata": {},
   "source": [
    "### 4. Variáveis ​​​​separadas por vírgula (CSV)\n",
    "CSV (valores separados por vírgula) é um formato de planilha somente texto\n",
    "\n",
    "A primeira linha de um CSV contém títulos de colunas. Todas as linhas subsequentes contêm valores. Cada cabeçalho de coluna e cada variável são separados por uma vírgula:\n",
    "\n",
    "column1,column2,column3\n",
    "\n",
    "value1,value2,value3\n",
    "\n",
    "##### exmeplo:\n",
    "name,cake_flavor,frosting_flavor,topping\n",
    "\n",
    "Chocolate Cake,chocolate,chocolate,chocolate shavings\n",
    "\n",
    "Birthday Cake,vanilla,vanilla,rainbow sprinkles\n",
    "\n",
    "Carrot cake,carrot,cream cheese,almonds"
   ]
  },
  {
   "cell_type": "markdown",
   "metadata": {},
   "source": [
    "### 5. Carregando e salvando CSVs\n",
    "Quando você tem dados em um CSV, você pode carregá-los em um DataFrame no Pandas usando **.read_csv()**\n",
    "\n",
    "Também podemos salvar dados em um CSV, usando **.to_csv()**"
   ]
  },
  {
   "cell_type": "code",
   "execution_count": null,
   "metadata": {},
   "outputs": [],
   "source": [
    "df = pd.read_csv('arquivo_csv.csv')\n",
    "print(df)"
   ]
  },
  {
   "cell_type": "markdown",
   "metadata": {},
   "source": [
    "### 6. Inspecione um DataFrame\n",
    "O método **df.head()** fornece as primeiras 5 linhas de um DataFrame. Se quiser ver mais linhas, você pode passar o argumento posicional n\n",
    "\n",
    "O método **df.info()** fornece algumas estatísticas para cada coluna, como dtype, colunas, memoria ocupada, entre outros"
   ]
  },
  {
   "cell_type": "code",
   "execution_count": null,
   "metadata": {},
   "outputs": [],
   "source": [
    "print(df.head())"
   ]
  },
  {
   "cell_type": "code",
   "execution_count": null,
   "metadata": {},
   "outputs": [],
   "source": [
    "print(df.info())"
   ]
  },
  {
   "cell_type": "markdown",
   "metadata": {},
   "source": [
    "### 7. Selecione Colunas\n",
    "Existem duas sintaxes possíveis para selecionar todos os valores de uma coluna:\n",
    "\n",
    "1. Selecione a coluna como se estivesse selecionando um valor de um dicionário usando uma chave. Em nosso exemplo, digitaríamos **df['column']** para selecionar as idades\n",
    "2. Se o nome de uma coluna seguir todas as regras para um nome de variável (não começar com um número, não conter espaços ou caracteres especiais, etc.), então você poderá selecioná-la usando a seguinte notação: df.MySecondColumn. Em nosso exemplo, digitaríamos **df.column**"
   ]
  },
  {
   "cell_type": "code",
   "execution_count": null,
   "metadata": {},
   "outputs": [],
   "source": [
    "import pandas as pd\n",
    "\n",
    "df = pd.DataFrame([\n",
    "  ['January', 100, 100, 23, 100],\n",
    "  ['February', 51, 45, 145, 45],\n",
    "  ['March', 81, 96, 65, 96],\n",
    "  ['April', 80, 80, 54, 180],\n",
    "  ['May', 51, 54, 54, 154],\n",
    "  ['June', 112, 109, 79, 129]],\n",
    "  columns=['month', 'clinic_east',\n",
    "           'clinic_north', 'clinic_south',\n",
    "           'clinic_west'])\n",
    "\n",
    "clinic_north = df.clinic_north\n",
    "\n",
    "print(type(clinic_north))\n",
    "\n",
    "print(type(df))"
   ]
  },
  {
   "cell_type": "markdown",
   "metadata": {},
   "source": [
    "### 8. Selecionando múltiplas colunas\n",
    "Para selecionar duas ou mais colunas de um DataFrame, usamos uma lista de nomes de colunas\n",
    "\n",
    "**Nota:** Certifique-se de ter um conjunto duplo de colchetes ([[]]), ou este comando não funcionará!"
   ]
  },
  {
   "cell_type": "code",
   "execution_count": null,
   "metadata": {},
   "outputs": [],
   "source": [
    "import codecademylib3\n",
    "import pandas as pd\n",
    "\n",
    "df = pd.DataFrame([\n",
    "  ['January', 100, 100, 23, 100],\n",
    "  ['February', 51, 45, 145, 45],\n",
    "  ['March', 81, 96, 65, 96],\n",
    "  ['April', 80, 80, 54, 180],\n",
    "  ['May', 51, 54, 54, 154],\n",
    "  ['June', 112, 109, 79, 129]],\n",
    "  columns=['month', 'clinic_east',\n",
    "           'clinic_north', 'clinic_south',\n",
    "           'clinic_west']\n",
    ")\n",
    "\n",
    "clinic_north_south = df[['clinic_north', 'clinic_south']]\n",
    "print(type(clinic_north_south))"
   ]
  },
  {
   "cell_type": "markdown",
   "metadata": {},
   "source": [
    "### 9. Selecione linhas\n",
    "DataFrames são indexados em zero, o que significa que começamos com a 0ª linha e contamos a partir daí\n",
    "\n",
    "```python\n",
    "df.iloc[1]\n",
    "```\n"
   ]
  },
  {
   "cell_type": "code",
   "execution_count": null,
   "metadata": {},
   "outputs": [],
   "source": [
    "import pandas as pd\n",
    "\n",
    "df = pd.DataFrame([\n",
    "  ['January', 100, 100, 23, 100],\n",
    "  ['February', 51, 45, 145, 45],\n",
    "  ['March', 81, 96, 65, 96],\n",
    "  ['April', 80, 80, 54, 180],\n",
    "  ['May', 51, 54, 54, 154],\n",
    "  ['June', 112, 109, 79, 129]],\n",
    "  columns=['month', 'clinic_east',\n",
    "           'clinic_north', 'clinic_south',\n",
    "           'clinic_west'])\n",
    "\n",
    "march = df.iloc[2]"
   ]
  },
  {
   "cell_type": "markdown",
   "metadata": {},
   "source": [
    "### 10. Selecionando múltiplas linhas\n",
    "Algumas maneiras de selecionar varias linhas (utiliza fatiamento):\n",
    "\n",
    "```python\n",
    "df.iloc[3:7]\n",
    "df.iloc[:4]\n",
    "df.iloc[-3:]\n",
    "```"
   ]
  },
  {
   "cell_type": "code",
   "execution_count": null,
   "metadata": {},
   "outputs": [],
   "source": [
    "import codecademylib3\n",
    "import pandas as pd\n",
    "\n",
    "df = pd.DataFrame([\n",
    "  ['January', 100, 100, 23, 100],\n",
    "  ['February', 51, 45, 145, 45],\n",
    "  ['March', 81, 96, 65, 96],\n",
    "  ['April', 80, 80, 54, 180],\n",
    "  ['May', 51, 54, 54, 154],\n",
    "  ['June', 112, 109, 79, 129]],\n",
    "  columns=['month', 'clinic_east',\n",
    "           'clinic_north', 'clinic_south',\n",
    "           'clinic_west']\n",
    ")\n",
    "\n",
    "april_may_june = df.iloc[3:7]\n",
    "print(april_may_june)"
   ]
  },
  {
   "cell_type": "markdown",
   "metadata": {},
   "source": [
    "### 11. Selecione linhas com lógica I\n",
    "Você pode selecionar um subconjunto de um DataFrame usando instruções lógicas:\n",
    "\n",
    "```python\n",
    "df[df.MyColumnName == desired_column_value] \n",
    "# operadores logico (<, >, >=, <= e !=)\n",
    "```"
   ]
  },
  {
   "cell_type": "code",
   "execution_count": null,
   "metadata": {},
   "outputs": [],
   "source": [
    "import codecademylib3\n",
    "import pandas as pd\n",
    "\n",
    "df = pd.DataFrame([\n",
    "  ['January', 100, 100, 23, 100],\n",
    "  ['February', 51, 45, 145, 45],\n",
    "  ['March', 81, 96, 65, 96],\n",
    "  ['April', 80, 80, 54, 180],\n",
    "  ['May', 51, 54, 54, 154],\n",
    "  ['June', 112, 109, 79, 129]],\n",
    "  columns=['month', 'clinic_east',\n",
    "           'clinic_north', 'clinic_south',\n",
    "           'clinic_west'])\n",
    "\n",
    "january = df[df.month == 'January']\n",
    "print(january)"
   ]
  },
  {
   "cell_type": "markdown",
   "metadata": {},
   "source": [
    "### 12. Selecione linhas com Logic II\n",
    "**|** significa “ou” e **&** significa “e”\n",
    "\n",
    "```python\n",
    "df[(df.MyColumnName1 == desired_column_value1)|\n",
    "   (df.MyColumnName2 != desired_column_value2)] \n",
    "```"
   ]
  },
  {
   "cell_type": "code",
   "execution_count": null,
   "metadata": {},
   "outputs": [],
   "source": [
    "import codecademylib3\n",
    "import pandas as pd\n",
    "\n",
    "df = pd.DataFrame([\n",
    "  ['January', 100, 100, 23, 100],\n",
    "  ['February', 51, 45, 145, 45],\n",
    "  ['March', 81, 96, 65, 96],\n",
    "  ['April', 80, 80, 54, 180],\n",
    "  ['May', 51, 54, 54, 154],\n",
    "  ['June', 112, 109, 79, 129]],\n",
    "  columns=['month', 'clinic_east',\n",
    "           'clinic_north', 'clinic_south',\n",
    "           'clinic_west'])\n",
    "\n",
    "\n",
    "march_april = df[(df.month == 'March')|\n",
    "                (df.month == 'April')]\n",
    "print(march_april)"
   ]
  },
  {
   "cell_type": "markdown",
   "metadata": {},
   "source": [
    "### 13. Selecione linhas com Logic III\n",
    "Poderíamos usar o **isin** comando para verificar se **df.name** é um de uma lista de valores"
   ]
  },
  {
   "cell_type": "code",
   "execution_count": null,
   "metadata": {},
   "outputs": [],
   "source": [
    "import codecademylib3\n",
    "import pandas as pd\n",
    "\n",
    "df = pd.DataFrame([\n",
    "  ['January', 100, 100, 23, 100],\n",
    "  ['February', 51, 45, 145, 45],\n",
    "  ['March', 81, 96, 65, 96],\n",
    "  ['April', 80, 80, 54, 180],\n",
    "  ['May', 51, 54, 54, 154],\n",
    "  ['June', 112, 109, 79, 129]],\n",
    "  columns=['month', 'clinic_east',\n",
    "           'clinic_north', 'clinic_south',\n",
    "           'clinic_west'])\n",
    "\n",
    "january_february_march = df[df.month.isin(['January', 'February', 'March'])]\n",
    "print(january_february_march)"
   ]
  },
  {
   "cell_type": "markdown",
   "metadata": {},
   "source": [
    "### 14. Definir índices\n",
    "Quando selecionamos um subconjunto de um DataFrame usando lógica, obtemos índices não consecutivos. Isso é deselegante e dificulta o uso **.iloc()**.\n",
    "\n",
    "Podemos corrigir isso usando o método **.reset_index()**.\n",
    "\n",
    "Se executarmos o comando **df.reset_index(drop=True)**, para nao acabar com a coluna indice.\n",
    "\n",
    "Usar **.reset_index()r** retornará um novo DataFrame, mas geralmente queremos apenas modificar nosso DataFrame existente. Se usarmos a palavra-chave, **inplace=True** podemos simplesmente modificar nosso DataFrame existente."
   ]
  },
  {
   "cell_type": "code",
   "execution_count": null,
   "metadata": {},
   "outputs": [],
   "source": [
    "import codecademylib3\n",
    "import pandas as pd\n",
    "\n",
    "df = pd.DataFrame([\n",
    "  ['January', 100, 100, 23, 100],\n",
    "  ['February', 51, 45, 145, 45],\n",
    "  ['March', 81, 96, 65, 96],\n",
    "  ['April', 80, 80, 54, 180],\n",
    "  ['May', 51, 54, 54, 154],\n",
    "  ['June', 112, 109, 79, 129]],\n",
    "  columns=['month', 'clinic_east',\n",
    "           'clinic_north', 'clinic_south',\n",
    "           'clinic_west']\n",
    ")\n",
    "\n",
    "df2 = df.loc[[1, 3, 5]]\n",
    "\n",
    "# print(df2)\n",
    "\n",
    "df3 = df2.reset_index()\n",
    "\n",
    "print(df3)\n",
    "\n",
    "df2.reset_index(inplace = True, drop = True)\n",
    "\n",
    "print(df2)"
   ]
  },
  {
   "cell_type": "markdown",
   "metadata": {},
   "source": [
    "# 🐼 Pandas - Agregados"
   ]
  },
  {
   "cell_type": "markdown",
   "metadata": {},
   "source": []
  },
  {
   "cell_type": "markdown",
   "metadata": {},
   "source": [
    "# 🐼 Pandas - Multiplas Tabelas"
   ]
  },
  {
   "cell_type": "markdown",
   "metadata": {},
   "source": []
  }
 ],
 "metadata": {
  "kernelspec": {
   "display_name": "Python 3",
   "language": "python",
   "name": "python3"
  },
  "language_info": {
   "codemirror_mode": {
    "name": "ipython",
    "version": 3
   },
   "file_extension": ".py",
   "mimetype": "text/x-python",
   "name": "python",
   "nbconvert_exporter": "python",
   "pygments_lexer": "ipython3",
   "version": "3.12.2"
  }
 },
 "nbformat": 4,
 "nbformat_minor": 2
}
